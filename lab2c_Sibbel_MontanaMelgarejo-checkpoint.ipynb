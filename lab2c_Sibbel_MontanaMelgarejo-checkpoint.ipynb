{
 "cells": [
  {
   "cell_type": "markdown",
   "metadata": {},
   "source": [
    "# Sequence Processing with Recurrent Neural Networks\n",
    "\n",
    "So far, we have seen how word vectors can be constructed from corpus statistics, and how they can be utilized to infer latent semantic content either in isolation (e.g. genders from names) or in relation to one another (e.g. similarities and analogies). \n",
    "\n",
    "For tasks involving larger linguistic units such as phrases, sentences and dialogues, we need machinery capable of processing _sequences_ or _structures_ of words.\n",
    "\n",
    "Recurrent Neural Networks are an example of such machinery; for this assignment, you will construct a recurrent neural network that annotates each word of a sentence with a linguistically informative marker. In the simple case (and in this assignment), these markers will be POS tags. However, they can also be morphosyntactic informative [categories](https://en.wikipedia.org/wiki/Combinatory_categorial_grammar) (supertags).\n",
    "\n",
    "In both cases, the task is a case of sequence labeling.  A good reference point is Jurafsky and Martin [Chapter 9](https://web.stanford.edu/~jurafsky/slp3/9.pdf). For a fuller view of the picture, a good reference point is Alex Graves' [dissertation](https://www.cs.toronto.edu/~graves/preprint.pdf).\n",
    "\n",
    "We will take a gradual approach, first inspecting recurrent neural networks, then moving on to data processing using high-grade word vectors before finally moving to the problem at hand. "
   ]
  },
  {
   "cell_type": "markdown",
   "metadata": {},
   "source": [
    "---"
   ]
  },
  {
   "cell_type": "markdown",
   "metadata": {},
   "source": [
    "## Recurrent Neural Networks\n",
    "Recurrent Neural Networks are a particularly interesting class of neural networks. Unlike standard fully-connected networks, which accept a fixed-size input and produce a fixed-size output over a predefined number of computational steps (i.e. network layers), RNNs instead operate on sequences of vectors. \n",
    "\n",
    "Computationally, feedforward networks may be seen as a trainable (but parametrically fixed) function, whereas RNNs act as continuous, stateful programs operating on sequences of inputs. \n",
    "Cognitively, this may be viewed as enhancing our system's perceptive and computational abilities with a notion of memory.\n",
    "In the general case, this statefulness is captured by an intermediate hidden vector which is adjusted throughout the computation, affected by both the immediately previous version of itself __and__ the current input.\n",
    "\n",
    "RNNs are nowadays established as the core machinery of neural sequence processing. \n",
    "\n",
    "A simple recurrent network (SRN or Elman network) is described by the equations:\n",
    "* $h_t = \\theta_h (W_h x_t + U_h h_{t-1} + b_h ) $\n",
    "* $y_t = \\theta_y (W_y h_t + b_y) $\n",
    "\n",
    "where (at timestep $t$) $x_t$, $h_t$, $y_t$ are the network's input, hidden and output representations respectively, $\\theta_h$, $\\theta_y$ its hidden and output activation functions, and $W_h$, $U_h$, $b_h$, $W_y$, $b_y$ parametric tensors to be learned."
   ]
  },
  {
   "cell_type": "code",
   "execution_count": 6,
   "metadata": {},
   "outputs": [],
   "source": [
    "import torch\n",
    "from torch import FloatTensor, LongTensor\n",
    "from typing import Tuple, List, Callable, Optional"
   ]
  },
  {
   "cell_type": "markdown",
   "metadata": {},
   "source": [
    "### Assignment 2.0: Our own SRN\n",
    "Let's make our own simple recurrent network from scratch, to get an idea of its inner workings. To make our life just a bit simpler, we will use `torch.nn.Linear` to model the internal transformations.\n",
    "\n",
    "Complete the `mySRN` class, which is initialized with the input $d_i$, hidden $d_h$ and output $d_o$ dimensionalities, as well as two non-linear functions $\\theta_h$ and $\\theta_y$, and constructs a SRN implementing three `torch.nn.Linear` layers:\n",
    "1. `x_to_h`: a layer that takes $x_t$ and produces $W_h x_t$\n",
    "2. `h_to_h`: a layer that takes $h_{t-1}$ and produces $U_h h_{t-1} + b_h$\n",
    "3. `h_to_y`: a layer that takes $h_t$ and produces $W_y h_t + b_y$\n",
    "\n",
    "Implement the function `step` that performs a computational step, accepting $x_t$ and $h_{t-1}$ and producing $h_t$ and $y_t$.\n",
    "\n",
    "Implement the function forward that accepts a List of inputs $X$, an initial hidden vector $h_{-1}$ and iteratively applies `step` until the input sequence is exhausted, returning a List of outputs $Y$ (of the same length as $X$).\n",
    "\n",
    "_Hint_: Note that `x_to_h` does not have a bias term $b$, since we will incorporate it into `h_to_h`"
   ]
  },
  {
   "cell_type": "code",
   "execution_count": 173,
   "metadata": {},
   "outputs": [],
   "source": [
    "class mySRN(torch.nn.Module):\n",
    "    def __init__(self, input_dim: int, hidden_dim: int, output_dim: int, \n",
    "                 hidden_activation: Callable[[FloatTensor], FloatTensor],\n",
    "                 output_activation: Callable[[FloatTensor], FloatTensor],\n",
    "                 device: str):\n",
    "        super(mySRN, self).__init__()\n",
    "        self.hidden_activation = hidden_activation\n",
    "        self.output_activation = output_activation\n",
    "        self.device = device\n",
    "        \n",
    "        self.x_to_h = torch.nn.Linear(in_features=input_dim, out_features=hidden_dim, bias=False)\n",
    "        self.h_to_h = torch.nn.Linear(in_features=hidden_dim, out_features=hidden_dim)\n",
    "        self.h_to_y = torch.nn.Linear(in_features=hidden_dim, out_features=output_dim)\n",
    "        \n",
    "    def step(self, x: FloatTensor, h: FloatTensor) -> Tuple[FloatTensor, FloatTensor]:\n",
    "        ht = self.hidden_activation(self.x_to_h(X) + self.h_to_h(h))\n",
    "        yt = self.output_activation(self.h_to_y(ht))\n",
    "        return ht, yt;\n",
    "        \n",
    "    def forward(self, X: List[FloatTensor], h: FloatTensor) -> List[FloatTensor]:\n",
    "        #ht = []\n",
    "        #yt = []\n",
    "        #while len(X) != 0:\n",
    "        ht, yt = self.step(X, h)\n",
    "        return yt\n",
    "    "
   ]
  },
  {
   "cell_type": "markdown",
   "metadata": {},
   "source": [
    "In practice, we do not need to write our own functions for common RNN architectures. \n",
    "Torch already provides the [necessary abstractions](https://pytorch.org/docs/stable/nn.html#recurrent-layers).\n",
    "\n",
    "The [RNN](https://pytorch.org/docs/stable/nn.html#rnn) wrapper implements highly optimized forward routines to compute the hidden representations of a full input sequence.\n",
    "\n",
    "Some pointers:\n",
    "* Unlike our naive implementation, RNN accepts a 3-dimensional tensor of shape (seq_len, batch_shape, input_dim) rather than a list of 2-dimensional tensors\n",
    "* If no initial hidden state is provided, it defaults to a zero tensor\n",
    "* The class produces just the RNN hidden states; it is up to us to define the `h_to_y` transformation on top of them\n",
    "* The non-linearity argument is a string; our only two choices are either `'tanh'` or `'relu'` (shorthands for `torch.nn.Tanh` and `torch.nn.ReLU` respectively)\n",
    "\n",
    "Read the documentation (!) for further details.\n",
    "\n",
    "A brief example is given below."
   ]
  },
  {
   "cell_type": "code",
   "execution_count": 174,
   "metadata": {},
   "outputs": [
    {
     "name": "stdout",
     "output_type": "stream",
     "text": [
      "torch.Size([10, 32, 48])\n"
     ]
    }
   ],
   "source": [
    "rnn = torch.nn.RNN(input_size=16, hidden_size=48, nonlinearity='tanh')\n",
    "X = torch.rand(10, 32, 16)\n",
    "h, _ = rnn(X)\n",
    "print(h.shape)"
   ]
  },
  {
   "cell_type": "markdown",
   "metadata": {},
   "source": [
    "So, for a random input tensor of shape (seq_len, batch_size, input_dim), we get back an output tensor of shape (seq_len, batch_size, hidden_dim)"
   ]
  },
  {
   "cell_type": "code",
   "execution_count": 175,
   "metadata": {},
   "outputs": [],
   "source": [
    "del mySRN, rnn, X, h"
   ]
  },
  {
   "cell_type": "markdown",
   "metadata": {},
   "source": [
    "### Assignment 2.1: A faster version of the SRN\n",
    "Now let's wrap an `RNN` into a custom module `myFastSRN` that implements it aside the `h_to_y` transformation."
   ]
  },
  {
   "cell_type": "code",
   "execution_count": 19,
   "metadata": {},
   "outputs": [],
   "source": [
    "class fastSRN(torch.nn.Module):\n",
    "    def __init__(self, input_dim: int, hidden_dim: int, output_dim: int, \n",
    "                 hidden_activation: str,\n",
    "                 output_activation: Callable[[FloatTensor], FloatTensor],\n",
    "                 device: str):\n",
    "        super(fastSRN, self).__init__()\n",
    "        self.input_size = input_dim\n",
    "        self.hidden_size = hidden_dim\n",
    "        self.output_size = output_dim\n",
    "        self.hidden_activation = hidden_activation\n",
    "        self.output_activation = output_activation\n",
    "        self.device = device\n",
    "        \n",
    "        self.myrnn = torch.nn.RNN(input_size=self.input_size, hidden_size=self.hidden_size, nonlinearity=self.hidden_activation)\n",
    "        self.h_to_y = torch.nn.Linear(in_features=self.hidden_size, out_features=self.output_size)\n",
    "        \n",
    "    def forward(self, X:FloatTensor, h: Optional[FloatTensor]=None) -> FloatTensor:\n",
    "        h_t, _ = self.myrnn(X,h)\n",
    "        y_t = self.output_activation(self.h_to_y(h_t))\n",
    "        return y_t"
   ]
  },
  {
   "cell_type": "markdown",
   "metadata": {},
   "source": [
    "Let's see our new implementation in action. \n",
    "\n",
    "Initialize a random input tensor $X$ that would correspond to 32 sequences,  each of length 10, with each item having 16 features, and a `fastSRN` fit to process it, producing 42-dimensional hidden states and 2-dimension output vectors for each sequence item.\n",
    "\n",
    "Run the SRN on the tensor and make sure the output shape is as expected."
   ]
  },
  {
   "cell_type": "code",
   "execution_count": 19,
   "metadata": {},
   "outputs": [
    {
     "data": {
      "text/plain": [
       "torch.Size([10, 16, 2])"
      ]
     },
     "execution_count": 19,
     "metadata": {},
     "output_type": "execute_result"
    }
   ],
   "source": [
    "X = torch.rand(10, 16, 32)\n",
    "netw = fastSRN(input_dim=32, hidden_dim=42, output_dim=2, \n",
    "                 hidden_activation='tanh',\n",
    "                 output_activation=torch.nn.LogSoftmax(dim=-1),\n",
    "                 device='cpu')\n",
    "output = netw(X)\n",
    "output.shape"
   ]
  },
  {
   "cell_type": "markdown",
   "metadata": {},
   "source": [
    "Hopefully everything should be in order.\n",
    "\n",
    "You may have noticed a minor complication: in order to utilize batching, we need our input sequences to be of the same length.\n",
    "\n",
    "This however is very rarely the case in practice. A common trick against this problem is _padding_; that is, appending zero tensors to all input sequences shorter than the maximum in-batch length to make them all equally long.\n",
    "\n",
    "As usual, torch already does the hard work for us via [pad_sequence](https://pytorch.org/docs/stable/nn.html?highlight=pad%20_sequence#torch.nn.utils.rnn.pad_sequence). Given a list of $N$ 2-dimensional tensors, each of shape (seq_len$_n$, input_dim), it will construct a 3-d tensor of shape ($max_{n \\in N}${seq_len$_n$}, N, input_dim).\n",
    "\n",
    "An example:"
   ]
  },
  {
   "cell_type": "code",
   "execution_count": 21,
   "metadata": {},
   "outputs": [
    {
     "name": "stdout",
     "output_type": "stream",
     "text": [
      "torch.Size([7, 3, 16])\n"
     ]
    }
   ],
   "source": [
    "x_1 = torch.rand(1, 16)  # a sequence of 1, 16-dimensional item\n",
    "x_2 = torch.rand(7, 16)  # a sequence of 7, 16-dimensional items\n",
    "x_3 = torch.rand(5, 16)  # a sequence of 5, 16-dimensional items\n",
    "\n",
    "X = torch.nn.utils.rnn.pad_sequence([x_1, x_2, x_3])  \n",
    "\n",
    "# Can you guess what the shape of X is?\n",
    "print(X.shape)"
   ]
  },
  {
   "cell_type": "code",
   "execution_count": 22,
   "metadata": {},
   "outputs": [],
   "source": [
    "del x_1, x_2, x_3, X"
   ]
  },
  {
   "cell_type": "markdown",
   "metadata": {},
   "source": [
    "## Pretrained Word Embeddings\n",
    "Moving on-- last assignment, we saw how to train our own word embeddings using a miniature toy corpus. Now, we will see how to easily employ high-quality pretrained word vectors and, later on, how to utilize them for further downstream tasks.\n",
    "\n",
    "We are going to use [spaCy](https://spacy.io/). SpaCy is a high-level NLP library that provides a ton of useful functionalities, but we will only focus on its pretrained embeddings for this assignment.\n",
    "\n",
    "Before proceeding, [install spacy](https://spacy.io/usage) using your python package manager (e.g. `pip install spacy`)."
   ]
  },
  {
   "cell_type": "code",
   "execution_count": 2,
   "metadata": {},
   "outputs": [],
   "source": [
    "import spacy"
   ]
  },
  {
   "cell_type": "markdown",
   "metadata": {},
   "source": [
    "SpaCy comes with a lot of different-size models for different languages. \n",
    "\n",
    "We will need to download the small english model for the exercises to follow. You can either do it on a new terminal window (optimal, if you are running this assignment through a virtual environment) or by simply running the magic command below. "
   ]
  },
  {
   "cell_type": "code",
   "execution_count": 25,
   "metadata": {},
   "outputs": [
    {
     "name": "stdout",
     "output_type": "stream",
     "text": [
      "Collecting en_core_web_lg==2.2.0 from https://github.com/explosion/spacy-models/releases/download/en_core_web_lg-2.2.0/en_core_web_lg-2.2.0.tar.gz#egg=en_core_web_lg==2.2.0\n",
      "\u001b[?25l  Downloading https://github.com/explosion/spacy-models/releases/download/en_core_web_lg-2.2.0/en_core_web_lg-2.2.0.tar.gz (827.9MB)\n",
      "\u001b[K     |████████████████████████████████| 827.9MB 1.0MB/s eta 0:00:016    |▉                               | 21.9MB 364kB/s eta 0:36:49     |███                             | 78.8MB 532kB/s eta 0:23:26     |█████▌                          | 142.2MB 552kB/s eta 0:20:41     |██████▍                         | 165.7MB 1.1MB/s eta 0:10:19     |█████████▏                      | 238.1MB 545kB/s eta 0:18:01     |██████████                      | 260.1MB 272kB/s eta 0:34:44     |███████████▎                    | 291.4MB 545kB/s eta 0:16:24     |████████████▎                   | 318.1MB 594kB/s eta 0:14:18     |████████████▍                   | 321.3MB 379kB/s eta 0:22:17     |██████████████▎                 | 369.5MB 513kB/s eta 0:14:53     |██████████████▌                 | 374.3MB 371kB/s eta 0:20:22     |███████████████▎                | 394.0MB 836kB/s eta 0:08:39     |███████████████▌                | 399.9MB 269kB/s eta 0:26:26     |███████████████▌                | 401.3MB 348kB/s eta 0:20:23     |███████████████▋                | 405.3MB 351kB/s eta 0:20:04     |███████████████▉                | 410.4MB 513kB/s eta 0:13:34     |█████████████████▏              | 443.3MB 525kB/s eta 0:12:12     |██████████████████▋             | 480.7MB 268kB/s eta 0:21:34     |████████████████████▍           | 527.6MB 542kB/s eta 0:09:14     |█████████████████████           | 546.2MB 368kB/s eta 0:12:45     |█████████████████████▌          | 555.1MB 184kB/s eta 0:24:41     |█████████████████████▋          | 559.3MB 375kB/s eta 0:11:56     |██████████████████████▉         | 590.1MB 529kB/s eta 0:07:30     |████████████████████████▌       | 634.0MB 548kB/s eta 0:05:54     |█████████████████████████       | 648.2MB 351kB/s eta 0:08:32     |█████████████████████████       | 649.6MB 289kB/s eta 0:10:16     |█████████████████████████▌      | 658.9MB 700kB/s eta 0:04:02     |█████████████████████████▋      | 661.8MB 789kB/s eta 0:03:31     |███████████████████████████▌    | 712.5MB 520kB/s eta 0:03:42     |████████████████████████████    | 724.5MB 365kB/s eta 0:04:44     |████████████████████████████▍   | 733.9MB 497kB/s eta 0:03:09     |████████████████████████████▍   | 734.3MB 275kB/s eta 0:05:39     |█████████████████████████████   | 749.6MB 491kB/s eta 0:02:40     |██████████████████████████████  | 778.2MB 359kB/s eta 0:02:19     |██████████████████████████████▏ | 780.9MB 520kB/s eta 0:01:31     |██████████████████████████████▉ | 797.6MB 389kB/s eta 0:01:18     |███████████████████████████████▎| 810.4MB 519kB/s eta 0:00:34     |███████████████████████████████▋| 817.0MB 825kB/s eta 0:00:14\n",
      "\u001b[?25hRequirement already satisfied: spacy>=2.2.0 in /opt/anaconda3/lib/python3.7/site-packages (from en_core_web_lg==2.2.0) (2.2.1)\n",
      "Requirement already satisfied: blis<0.5.0,>=0.4.0 in /opt/anaconda3/lib/python3.7/site-packages (from spacy>=2.2.0->en_core_web_lg==2.2.0) (0.4.1)\n",
      "Requirement already satisfied: numpy>=1.15.0 in /opt/anaconda3/lib/python3.7/site-packages (from spacy>=2.2.0->en_core_web_lg==2.2.0) (1.17.2)\n",
      "Requirement already satisfied: requests<3.0.0,>=2.13.0 in /opt/anaconda3/lib/python3.7/site-packages (from spacy>=2.2.0->en_core_web_lg==2.2.0) (2.22.0)\n",
      "Requirement already satisfied: plac<1.0.0,>=0.9.6 in /opt/anaconda3/lib/python3.7/site-packages (from spacy>=2.2.0->en_core_web_lg==2.2.0) (0.9.6)\n",
      "Requirement already satisfied: wasabi<1.1.0,>=0.2.0 in /opt/anaconda3/lib/python3.7/site-packages (from spacy>=2.2.0->en_core_web_lg==2.2.0) (0.3.0)\n",
      "Requirement already satisfied: srsly<1.1.0,>=0.1.0 in /opt/anaconda3/lib/python3.7/site-packages (from spacy>=2.2.0->en_core_web_lg==2.2.0) (0.1.0)\n",
      "Requirement already satisfied: thinc<7.2.0,>=7.1.1 in /opt/anaconda3/lib/python3.7/site-packages (from spacy>=2.2.0->en_core_web_lg==2.2.0) (7.1.1)\n",
      "Requirement already satisfied: cymem<2.1.0,>=2.0.2 in /opt/anaconda3/lib/python3.7/site-packages (from spacy>=2.2.0->en_core_web_lg==2.2.0) (2.0.2)\n",
      "Requirement already satisfied: murmurhash<1.1.0,>=0.28.0 in /opt/anaconda3/lib/python3.7/site-packages (from spacy>=2.2.0->en_core_web_lg==2.2.0) (1.0.2)\n",
      "Requirement already satisfied: preshed<3.1.0,>=3.0.2 in /opt/anaconda3/lib/python3.7/site-packages (from spacy>=2.2.0->en_core_web_lg==2.2.0) (3.0.2)\n",
      "Requirement already satisfied: urllib3!=1.25.0,!=1.25.1,<1.26,>=1.21.1 in /opt/anaconda3/lib/python3.7/site-packages (from requests<3.0.0,>=2.13.0->spacy>=2.2.0->en_core_web_lg==2.2.0) (1.24.2)\n",
      "Requirement already satisfied: idna<2.9,>=2.5 in /opt/anaconda3/lib/python3.7/site-packages (from requests<3.0.0,>=2.13.0->spacy>=2.2.0->en_core_web_lg==2.2.0) (2.8)\n",
      "Requirement already satisfied: certifi>=2017.4.17 in /opt/anaconda3/lib/python3.7/site-packages (from requests<3.0.0,>=2.13.0->spacy>=2.2.0->en_core_web_lg==2.2.0) (2019.9.11)\n",
      "Requirement already satisfied: chardet<3.1.0,>=3.0.2 in /opt/anaconda3/lib/python3.7/site-packages (from requests<3.0.0,>=2.13.0->spacy>=2.2.0->en_core_web_lg==2.2.0) (3.0.4)\n",
      "Requirement already satisfied: tqdm<5.0.0,>=4.10.0 in /opt/anaconda3/lib/python3.7/site-packages (from thinc<7.2.0,>=7.1.1->spacy>=2.2.0->en_core_web_lg==2.2.0) (4.36.1)\n",
      "Building wheels for collected packages: en-core-web-lg\n",
      "  Building wheel for en-core-web-lg (setup.py) ... \u001b[?25ldone\n",
      "\u001b[?25h  Created wheel for en-core-web-lg: filename=en_core_web_lg-2.2.0-cp37-none-any.whl size=829187830 sha256=7586d8baebb21910e4a185a2269c13ae24bc2869d0d3b54ac26dd0563fcee7b3\n",
      "  Stored in directory: /private/var/folders/z9/h4wpn0x958j7z5bf5_24nspm0000gn/T/pip-ephem-wheel-cache-f9jns9mj/wheels/9f/3c/d6/3ade7ed8195030f4d7f299cf73d856a84d7b3effd5890133fb\n",
      "Successfully built en-core-web-lg\n",
      "Installing collected packages: en-core-web-lg\n",
      "Successfully installed en-core-web-lg-2.2.0\n",
      "\u001b[38;5;2m✔ Download and installation successful\u001b[0m\n",
      "You can now load the model via spacy.load('en_core_web_lg')\n"
     ]
    }
   ],
   "source": [
    "!python3 -m spacy download en_core_web_lg"
   ]
  },
  {
   "cell_type": "markdown",
   "metadata": {},
   "source": [
    "After having downloaded the model, we can load it as follows (you may need to restart your notebook after the download is complete):"
   ]
  },
  {
   "cell_type": "code",
   "execution_count": 3,
   "metadata": {},
   "outputs": [],
   "source": [
    "nlp = spacy.load('en_core_web_lg')"
   ]
  },
  {
   "cell_type": "markdown",
   "metadata": {},
   "source": [
    "We can then use the loaded model to process a sentence and obtain its word vectors, a List of 300-dimensional numpy arrays."
   ]
  },
  {
   "cell_type": "code",
   "execution_count": 4,
   "metadata": {},
   "outputs": [
    {
     "name": "stdout",
     "output_type": "stream",
     "text": [
      "We have 7 vectors..\n",
      "..each of shape (300,)\n"
     ]
    }
   ],
   "source": [
    "doc = nlp('this is a sentence of 7 words')  # the processed sentence\n",
    "vectors = list(map(lambda x: x.vector, doc))  # its vectors\n",
    "print('We have {} vectors..'.format(len(vectors)))\n",
    "print('..each of shape {}'.format(vectors[0].shape))"
   ]
  },
  {
   "cell_type": "markdown",
   "metadata": {},
   "source": [
    "And then finally convert them into torch tensors."
   ]
  },
  {
   "cell_type": "code",
   "execution_count": 7,
   "metadata": {},
   "outputs": [
    {
     "name": "stdout",
     "output_type": "stream",
     "text": [
      "torch.Size([7, 300])\n"
     ]
    }
   ],
   "source": [
    "torch_vectors = torch.tensor(vectors)\n",
    "print(torch_vectors.shape)"
   ]
  },
  {
   "cell_type": "markdown",
   "metadata": {},
   "source": [
    "Or, in the case of multiple sentences:"
   ]
  },
  {
   "cell_type": "code",
   "execution_count": 8,
   "metadata": {},
   "outputs": [],
   "source": [
    "# Example sentences\n",
    "sentences = ['This is a sentence', 'This is another sentence.']\n",
    "\n",
    "# Parallel processing with spacy\n",
    "docs = list(map(nlp, sentences))\n",
    "\n",
    "# Convert each processed sentence into a list of vectors\n",
    "vectors = map(lambda doc: [word.vector for word in doc], docs)\n",
    "\n",
    "# Convert each list of vectors into a 2-d torch tensor\n",
    "tensors = list(map(lambda sentence_vectors: torch.tensor(sentence_vectors), vectors))"
   ]
  },
  {
   "cell_type": "markdown",
   "metadata": {},
   "source": [
    "## POS Tagging\n",
    "Given our pretrained embeddings, we may represent sentences as _sequences of vectors_, which is exactly the format expected by an RNN.\n",
    "We will now try to train an SRN to iterate over a sentence and assign part of speech tags to each of its words."
   ]
  },
  {
   "cell_type": "markdown",
   "metadata": {},
   "source": [
    "### Assignment 2.2: Why use an RNN?\n",
    "In the context of POS tagging, what is the advantage of using a recurrent network over a feedforward network that processes each word individually?"
   ]
  },
  {
   "cell_type": "markdown",
   "metadata": {},
   "source": [
    "> Feedforward networks make the assumption that all words are independent of each other thereby failing to capture the relationships present in sequential data, such as language. It treats each tagging independently. Recurrent networks do capture these relationships by using previously learned information to predict the next output i.e. it uses previously tagged data to predict what the tag will be of the next word. \n"
   ]
  },
  {
   "cell_type": "markdown",
   "metadata": {},
   "source": [
    "\n",
    "First, let's load and inspect our datafiles.\n",
    "\n",
    "The pickle file contains three items:\n",
    "1. `sentences`: a List of strings (-sentences)\n",
    "1. `postags`: a List of Lists of strings (-POS tags)\n",
    "2. `pos_to_int`: a Dictionary from strings to ints (mapping each POS tag to a unique identifier)\n",
    " "
   ]
  },
  {
   "cell_type": "code",
   "execution_count": 9,
   "metadata": {},
   "outputs": [],
   "source": [
    "import pickle\n",
    "with open('TRAIN.p', 'rb') as f:\n",
    "    sentences, postags, pos_to_int = pickle.load(f)"
   ]
  },
  {
   "cell_type": "markdown",
   "metadata": {},
   "source": [
    "Now, let us take a moment to understand the data a bit more. \n",
    "The POS tags in this dataset are in the style of the Penn Treebank. Find the top 20 most common tags and plot a histogram of their frequencies. Find out what these tags mean linguisically! https://www.ling.upenn.edu/courses/Fall_2003/ling001/penn_treebank_pos.html"
   ]
  },
  {
   "cell_type": "code",
   "execution_count": 11,
   "metadata": {},
   "outputs": [
    {
     "data": {
      "image/png": "[encoded data removed]",
      "text/plain": [
       "<Figure size 432x288 with 1 Axes>"
      ]
     },
     "metadata": {
      "needs_background": "light"
     },
     "output_type": "display_data"
    }
   ],
   "source": [
    "from collections import Counter \n",
    "import numpy as np\n",
    "import matplotlib.pyplot as plt\n",
    "\n",
    "all_tags = [item for sublist in postags for item in sublist]\n",
    "most_common = Counter(all_tags).most_common(20)\n",
    "\n",
    "tag, frequency = zip(*most_common)\n",
    "indices = np.arange(len(most_common))\n",
    "plt.bar(indices, frequency, color='g')\n",
    "plt.xticks(indices, tag, rotation='vertical')\n",
    "plt.tight_layout()\n",
    "plt.show()\n"
   ]
  },
  {
   "cell_type": "markdown",
   "metadata": {},
   "source": [
    "Next, we need to convert our data to numeric form."
   ]
  },
  {
   "cell_type": "markdown",
   "metadata": {},
   "source": [
    "### Assignment 2.3: Tensorizing sentences\n",
    "Convert sentences to their tensor format, as done earlier (this may take a while). \n",
    "\n",
    "<div class=\"alert alert-block alert-warning\">\n",
    "<b>Important!</b>\n",
    "Since the sentences are pre-tokenized (i.e. they are provided as sequences of words rather than strings), we need to change the processing call to ensure the output vectors are aligned with our tokenization.\n",
    "</div>"
   ]
  },
  {
   "cell_type": "code",
   "execution_count": 12,
   "metadata": {},
   "outputs": [],
   "source": [
    "docs = list(map(lambda sentence: \n",
    "                spacy.tokens.doc.Doc(nlp.vocab, words=sentence.split()), \n",
    "            sentences))\n",
    "\n",
    "doc_vectors = map(lambda doc: [word.vector for word in doc], docs)\n",
    "doc_tensors = list(map(lambda sentence_vectors: torch.tensor(sentence_vectors), doc_vectors))\n",
    "\n",
    "# We no longer need the docs and numpy arrays\n",
    "del doc_vectors, docs"
   ]
  },
  {
   "cell_type": "markdown",
   "metadata": {},
   "source": [
    "Similarly, we will use `pos_to_int` to convert the POS sequences into tensors."
   ]
  },
  {
   "cell_type": "code",
   "execution_count": 13,
   "metadata": {},
   "outputs": [],
   "source": [
    "pos_numeric = list(map(lambda pos_sequence: [pos_to_int[pos] for pos in pos_sequence], postags))\n",
    "pos_tensors =  list(map(lambda pos_num_sequence: torch.tensor(pos_num_sequence), pos_numeric))"
   ]
  },
  {
   "cell_type": "markdown",
   "metadata": {},
   "source": [
    "In the first assignment, we saw how to split our dataset into a training and a validation set. \n",
    "\n",
    "Do the same here, splitting the sentences, postags and their corresponding tensors into a training and a validation set."
   ]
  },
  {
   "cell_type": "code",
   "execution_count": 14,
   "metadata": {},
   "outputs": [],
   "source": [
    "from sklearn.model_selection import train_test_split\n",
    "\n",
    "sentences_train, sentences_val, postags_train, postags_val, X_train, X_val, Y_train, Y_val = train_test_split(sentences,\n",
    "                                                                                                              postags, \n",
    "                                                                                                              doc_tensors,\n",
    "                                                                                                              pos_tensors,\n",
    "                                                                                                              test_size=0.2)\n",
    "\n",
    "assert len(X_train) == len(Y_train) == len(sentences_train)\n",
    "assert len(X_val) == len(Y_val) == len(sentences_val)"
   ]
  },
  {
   "cell_type": "markdown",
   "metadata": {},
   "source": [
    "Again, following along the first assignment, we will wrap our tensors into a `Dataset` and a `DataLoader`.\n",
    "\n",
    "Since our data are not Tensors but rather Lists of Tensors of uneven lengths, we need to write our own Dataset wrapper.\n",
    "The wrapper only needs to implement two functions; `__len__`, which expects no arguments and returns the number of samples in the dataset, and `__getitem__`, which accepts an index `idx` and returns the input-output pair `X[idx]`, `Y[idx]`.\n",
    "\n",
    "Similarly, the Dataloader needs to process the list of input-output pairs produced by the Dataset using `pad_sequence`, as seen earlier."
   ]
  },
  {
   "cell_type": "markdown",
   "metadata": {},
   "source": [
    "### Assignment 2.4: Padding\n",
    "#### a) What is the advantage to applying padding on the batch rather than the entire dataset?"
   ]
  },
  {
   "cell_type": "markdown",
   "metadata": {},
   "source": [
    "> A padded dataset becomes very large seeing as the padding is done over the maximal sequence length. You will therefore get batches which consist primarily of zeros. By padding on the batches the amount of padding is reduced."
   ]
  },
  {
   "cell_type": "markdown",
   "metadata": {},
   "source": [
    "#### b) Fill in the code for `UnevenLengthDataset` class, implementing its two core functions.\n",
    "\n",
    "Then, complete the function `pad_batch` which takes a list of (x$_i$, y$_i$) pairs and produces the pair of their paddings: (X, Y).\n",
    "\n",
    "Given the two, the `DataLoader` object defined can iterate over the Dataset yielding uniform batches ready to be consumed by an RNN."
   ]
  },
  {
   "cell_type": "code",
   "execution_count": 15,
   "metadata": {},
   "outputs": [],
   "source": [
    "from torch.nn.utils.rnn import pad_sequence\n",
    "from torch.utils.data import Dataset, DataLoader\n",
    "\n",
    "\n",
    "class UnevenLengthDataset(Dataset):\n",
    "    def __init__(self, X: List[FloatTensor], Y: List[LongTensor]) -> None:\n",
    "        self.X = X\n",
    "        self.Y = Y\n",
    "        \n",
    "    def __len__(self) -> int:\n",
    "        return len(self.X)\n",
    "        \n",
    "    def __getitem__(self, idx: int) -> Tuple[FloatTensor, LongTensor]:\n",
    "        return self.X[idx], self.Y[idx];\n",
    "    \n",
    "    \n",
    "def pad_batch(batch: List[Tuple[FloatTensor, LongTensor]]) -> Tuple[FloatTensor, LongTensor]: \n",
    "    fst =lambda x: x[0]\n",
    "    snd = lambda x: x[1]\n",
    "    X = list(map(fst,batch))\n",
    "    Y = list(map(snd, batch))\n",
    "\n",
    "    X = torch.nn.utils.rnn.pad_sequence(list(X))  \n",
    "    Y = torch.nn.utils.rnn.pad_sequence(list(Y)) \n",
    "    return X,Y;\n",
    "        \n",
    "train_dataset = UnevenLengthDataset(X_train, Y_train)\n",
    "train_dataloader = DataLoader(train_dataset, \n",
    "                              collate_fn=pad_batch,\n",
    "                              shuffle=True,\n",
    "                              batch_size=32)\n",
    "\n",
    "val_dataset = UnevenLengthDataset(X_val, Y_val)\n",
    "val_dataloader = DataLoader(val_dataset,\n",
    "                            collate_fn=pad_batch,\n",
    "                            shuffle=False,\n",
    "                            batch_size=32)"
   ]
  },
  {
   "cell_type": "markdown",
   "metadata": {},
   "source": [
    "What does a batch look like, shape-wise?"
   ]
  },
  {
   "cell_type": "code",
   "execution_count": 16,
   "metadata": {},
   "outputs": [
    {
     "name": "stdout",
     "output_type": "stream",
     "text": [
      "torch.Size([47, 32, 300])\n",
      "torch.Size([47, 32])\n"
     ]
    }
   ],
   "source": [
    "for batch_x, batch_y in train_dataloader:\n",
    "    print(batch_x.shape)\n",
    "    print(batch_y.shape)\n",
    "    break"
   ]
  },
  {
   "cell_type": "markdown",
   "metadata": {},
   "source": [
    "So far so good. On to the network.\n",
    "\n",
    "### Assignment 2.5: Utility Functions\n",
    "Remember how we defined our training and validation functions for the first assignment?\n",
    "\n",
    "You will need to do the same here.\n",
    "Note that while you can use the given code as a guideline, just copying it won't do the trick; unlike a feedforward net, a recurrent network produces a 3rd order output tensor, of shape (max_seq_len, batch_size, num_output_classes).\n",
    "\n",
    "Similarly, our target Y is a 2nd order tensor of shape (max_seq_len, batch_size).\n",
    "\n",
    "You will need to properly treat the extra dimensional of both the output and the target, since loss functions expect an order 2 output tensor and an order 1 target tensor. \n",
    "\n",
    "Complete the functions `train_batch`, `train_epoch`, `eval_batch` and `eval_epoch`."
   ]
  },
  {
   "cell_type": "code",
   "execution_count": 164,
   "metadata": {},
   "outputs": [],
   "source": [
    "def accuracy(predictions: LongTensor, truth: LongTensor, ignore_idx: int) -> Tuple[int, int]:\n",
    "    \"\"\"\n",
    "        Given a tensor containing the network's predictions and a tensor containing the true values, as well\n",
    "        as an output value to ignore (e.g. the padding value), computes and returns the total count of non-\n",
    "        ignored values as well the total count of correctly predicted values.\n",
    "        \n",
    "        predictions: The network's predictions.\n",
    "        truth: The true output labels.\n",
    "        ignore_idx: The output padding value, to be ignored in accuracy calculation.\n",
    "    \"\"\"\n",
    "    \n",
    "    correct_words = torch.ones(predictions.size())\n",
    "    correct_words[predictions != truth] = 0\n",
    "    correct_words[truth == ignore_idx] = 1\n",
    "\n",
    "    num_correct_words = correct_words.sum().item()\n",
    "    num_masked_words = len(truth[truth == ignore_idx])\n",
    "\n",
    "    return predictions.shape[0] * predictions.shape[1] - num_masked_words, num_correct_words - num_masked_words\n",
    "\n",
    "\n",
    "def measure_accuracy(network: torch.nn.Module,\n",
    "                    dataloader: DataLoader,\n",
    "                    device: str) -> float:\n",
    "    \"\"\"\n",
    "        Given a network, a dataloader and a device, iterates over the dataset and returns the network's accuracy.\n",
    "    \"\"\"\n",
    "    correct = 0\n",
    "    total = 0\n",
    "    for x_batch, y_batch in dataloader:\n",
    "        pred = network(x_batch.to(device))\n",
    "        local_total, local_correct = accuracy(pred.argmax(dim=-1), y_batch.to(device), ignore_idx=0)\n",
    "        correct+= local_correct\n",
    "        total+= local_total\n",
    "    return correct/total\n",
    "    \n",
    "\n",
    "def train_batch(network: torch.nn.Module,\n",
    "                X_batch: FloatTensor,\n",
    "                Y_batch: LongTensor,\n",
    "                loss_fn: Callable[[FloatTensor, FloatTensor], FloatTensor],  \n",
    "                optimizer: torch.optim.Optimizer) -> float:\n",
    "    \n",
    "    network.train()\n",
    "    prediction_batch = network(X_batch)  # forward pass\n",
    "    batch_loss = loss_fn(prediction_batch.view(-1,len(pos_to_int)+1), Y_batch.view(-1))  # loss calculation\n",
    "    batch_loss.backward()  # gradient computation\n",
    "    optimizer.step()  # back-propagation\n",
    "    optimizer.zero_grad()  # gradient reset\n",
    "    return batch_loss.item()\n",
    "\n",
    "def train_epoch(network: torch.nn.Module, \n",
    "                dataloader: DataLoader,\n",
    "                loss_fn: Callable[[FloatTensor, FloatTensor], FloatTensor],\n",
    "                optimizer: torch.optim.Optimizer, \n",
    "                device: str) -> float:\n",
    "    \n",
    "    loss = 0.\n",
    "    \n",
    "    for i, (x_batch, y_batch) in enumerate(dataloader):\n",
    "        x_batch = x_batch.to(device)  # convert back to your chosen device\n",
    "        y_batch = y_batch.to(device)\n",
    "        loss += train_batch(network=network, X_batch=x_batch, Y_batch=y_batch, loss_fn=loss_fn, optimizer=optimizer)\n",
    "    loss /= (i+1) # divide loss by number of batches for consistency \n",
    "        \n",
    "    return loss\n",
    "\n",
    "def eval_batch(network: torch.nn.Module,\n",
    "                X_batch: FloatTensor,\n",
    "                Y_batch: LongTensor,\n",
    "                loss_fn: Callable[[FloatTensor, LongTensor], FloatTensor]) -> float:\n",
    "    \n",
    "    network.eval()\n",
    "    \n",
    "    with torch.no_grad():\n",
    "        prediction_batch = network(X_batch)\n",
    "        batch_loss = loss_fn(prediction_batch.view(-1,len(pos_to_int)+1), Y_batch.view(-1))\n",
    "    \n",
    "    return batch_loss.item()\n",
    "\n",
    "def eval_epoch(network: torch.nn.Module, \n",
    "                # a list of data points x\n",
    "                dataloader: DataLoader,\n",
    "                loss_fn: Callable[[FloatTensor, LongTensor], FloatTensor],\n",
    "                device: str) -> float:\n",
    "    \n",
    "    loss = 0.\n",
    "    \n",
    "    for i, (x_batch, y_batch) in enumerate(dataloader):\n",
    "        x_batch = x_batch.to(device)  # convert back to your chosen device\n",
    "        y_batch = y_batch.to(device)\n",
    "        loss += eval_batch(network=network, X_batch=x_batch, Y_batch=y_batch, loss_fn=loss_fn)\n",
    "    loss /= (i+1) # divide loss by number of batches for consistency \n",
    "        \n",
    "    return loss"
   ]
  },
  {
   "cell_type": "markdown",
   "metadata": {},
   "source": [
    "### Assignment 2.6: SRN POS tagging\n",
    "Define a simple recurrent network, with input size compatible with the vector dimensionality, output size compatible with the number of output classes (the number of different POS tags + 1) and a hidden size of your own choice. What is a reasonale choice?"
   ]
  },
  {
   "cell_type": "markdown",
   "metadata": {},
   "source": [
    "#### a) Why do we need to add 1 to the number of output classes?"
   ]
  },
  {
   "cell_type": "markdown",
   "metadata": {},
   "source": [
    "> If there is only one POS tag then the number of different POS tags becomes zero. The output size is compatible with the number of output classes. When calculating the loss we divide the loss by the number of batches for consistency. Seeing as we can't divide by zero we must add 1 to the number of output classes."
   ]
  },
  {
   "cell_type": "markdown",
   "metadata": {},
   "source": [
    "#### b) Implementation\n",
    "\n",
    "Use `\"tanh\"` as your hidden layer activation, and choose **an appropriate combination of output activation and loss function** (consider the task at hand, and refer to the documentation if in doubt- refer to tutorial as well!).\n",
    "\n",
    "Then instantiate an optimizer over your network, and train it for a number of epochs, measuring and printing all metrics in the process (train and validation loss and accuracy).\n",
    "\n",
    "_Hint_: Use `measure_accuracy` (defined earlier) to obtain accuracy.\n",
    "\n",
    "Plot the loss curves over the training process."
   ]
  },
  {
   "cell_type": "code",
   "execution_count": 165,
   "metadata": {},
   "outputs": [],
   "source": [
    "srn = fastSRN( input_dim= 300, hidden_dim= 29, output_dim = 49, \n",
    "                 hidden_activation= 'tanh',\n",
    "                 output_activation= torch.nn.LogSoftmax(dim=-1),\n",
    "                 device= 'cpu' )\n",
    "opt = torch.optim.SGD(srn.parameters(), lr=0.06)\n",
    "loss_fn = torch.nn.NLLLoss(ignore_index=0)"
   ]
  },
  {
   "cell_type": "code",
   "execution_count": 166,
   "metadata": {},
   "outputs": [
    {
     "name": "stdout",
     "output_type": "stream",
     "text": [
      "Epoch 0\n",
      " Training Loss: 1.818809843537034\n",
      " Validation Loss: 1.1256095161513677\n",
      " Accuracy: 0.7173115397823133\n",
      "Epoch 1\n",
      " Training Loss: 0.9084686013247003\n",
      " Validation Loss: 0.7687880768977776\n",
      " Accuracy: 0.8157315197754453\n",
      "Epoch 2\n",
      " Training Loss: 0.6820153222178781\n",
      " Validation Loss: 0.625578518897768\n",
      " Accuracy: 0.8484629051764039\n",
      "Epoch 3\n",
      " Training Loss: 0.573669687367433\n",
      " Validation Loss: 0.5442767360853771\n",
      " Accuracy: 0.8661163533750392\n",
      "Epoch 4\n",
      " Training Loss: 0.5069589781050651\n",
      " Validation Loss: 0.4899733574302108\n",
      " Accuracy: 0.8765826328441106\n",
      "Epoch 5\n",
      " Training Loss: 0.4610629222250932\n",
      " Validation Loss: 0.45170415803868935\n",
      " Accuracy: 0.8848093375337802\n",
      "Epoch 6\n",
      " Training Loss: 0.42757346973513927\n",
      " Validation Loss: 0.4223813319963122\n",
      " Accuracy: 0.8908244621287905\n",
      "Epoch 7\n",
      " Training Loss: 0.4016390821002177\n",
      " Validation Loss: 0.3995093900375265\n",
      " Accuracy: 0.8955518312256446\n",
      "Epoch 8\n",
      " Training Loss: 0.38108797045732967\n",
      " Validation Loss: 0.3809763610993744\n",
      " Accuracy: 0.8996203920748914\n",
      "Epoch 9\n",
      " Training Loss: 0.3642815777600206\n",
      " Validation Loss: 0.36564144366001955\n",
      " Accuracy: 0.9032242411574123\n",
      "Epoch 10\n",
      " Training Loss: 0.3499364913891483\n",
      " Validation Loss: 0.35246569769723074\n",
      " Accuracy: 0.9065238813323977\n",
      "Epoch 11\n",
      " Training Loss: 0.3379648574140688\n",
      " Validation Loss: 0.34142234787423775\n",
      " Accuracy: 0.9089612852173135\n",
      "Epoch 12\n",
      " Training Loss: 0.3277412279552182\n",
      " Validation Loss: 0.33191235095420213\n",
      " Accuracy: 0.9109563730832972\n",
      "Epoch 13\n",
      " Training Loss: 0.31881395207335617\n",
      " Validation Loss: 0.3235907413499065\n",
      " Accuracy: 0.9121974707735492\n",
      "Epoch 14\n",
      " Training Loss: 0.3109241044679225\n",
      " Validation Loss: 0.31634493818674136\n",
      " Accuracy: 0.9138958149812623\n",
      "Epoch 15\n",
      " Training Loss: 0.3038155766709751\n",
      " Validation Loss: 0.3096700678899805\n",
      " Accuracy: 0.9157733251713275\n",
      "Epoch 16\n",
      " Training Loss: 0.2977988807965588\n",
      " Validation Loss: 0.3036620367771734\n",
      " Accuracy: 0.9171749257207699\n",
      "Epoch 17\n",
      " Training Loss: 0.2923442873536356\n",
      " Validation Loss: 0.2984339981955826\n",
      " Accuracy: 0.9181174134404347\n",
      "Epoch 18\n",
      " Training Loss: 0.286985808729336\n",
      " Validation Loss: 0.293625856045062\n",
      " Accuracy: 0.9190617674724159\n",
      "Epoch 19\n",
      " Training Loss: 0.2821975336761664\n",
      " Validation Loss: 0.2892969469071696\n",
      " Accuracy: 0.9201460949281096\n",
      "Epoch 20\n",
      " Training Loss: 0.2780973454579612\n",
      " Validation Loss: 0.28554335252317803\n",
      " Accuracy: 0.9212136255729578\n",
      "Epoch 21\n",
      " Training Loss: 0.27427189904727683\n",
      " Validation Loss: 0.2816989357193942\n",
      " Accuracy: 0.9219228242531018\n",
      "Epoch 22\n",
      " Training Loss: 0.2705391299448266\n",
      " Validation Loss: 0.27849688479509305\n",
      " Accuracy: 0.9227514669214805\n",
      "Epoch 23\n",
      " Training Loss: 0.26719413654298974\n",
      " Validation Loss: 0.27509141945965077\n",
      " Accuracy: 0.9234084088567718\n",
      "Epoch 24\n",
      " Training Loss: 0.26390465626258724\n",
      " Validation Loss: 0.2721032974108186\n",
      " Accuracy: 0.9238899174343431\n"
     ]
    }
   ],
   "source": [
    "NUM_EPOCHS = 25\n",
    "\n",
    "train_losses = []\n",
    "val_losses = []\n",
    "accs = []\n",
    "\n",
    "for t in range(NUM_EPOCHS):\n",
    "    train_loss = train_epoch(srn, train_dataloader, optimizer=opt, loss_fn=loss_fn, device='cpu')\n",
    "    val_loss = eval_epoch(srn, val_dataloader, loss_fn, device='cpu')\n",
    "    acc = measure_accuracy(network= srn, dataloader= train_dataloader, device= 'cpu')\n",
    "    \n",
    "    print('Epoch {}'.format(t))\n",
    "    print(' Training Loss: {}'.format(train_loss))\n",
    "    print(' Validation Loss: {}'.format(val_loss))\n",
    "    print(' Accuracy: {}'.format(acc))\n",
    "    \n",
    "    train_losses.append(train_loss)\n",
    "    val_losses.append(val_loss)\n",
    "    accs.append(acc)\n",
    "    "
   ]
  },
  {
   "cell_type": "code",
   "execution_count": 167,
   "metadata": {},
   "outputs": [
    {
     "data": {
      "image/png": "[encoded data removed]",
      "text/plain": [
       "<Figure size 432x288 with 1 Axes>"
      ]
     },
     "metadata": {
      "needs_background": "light"
     },
     "output_type": "display_data"
    }
   ],
   "source": [
    "from matplotlib import pyplot as plt\n",
    "plt.plot(train_losses)\n",
    "plt.plot(val_losses)\n",
    "plt.legend(['Training', 'Validation'])\n",
    "plt.show()"
   ]
  },
  {
   "cell_type": "code",
   "execution_count": 168,
   "metadata": {},
   "outputs": [
    {
     "data": {
      "image/png": "[encoded data removed]",
      "text/plain": [
       "<Figure size 432x288 with 1 Axes>"
      ]
     },
     "metadata": {
      "needs_background": "light"
     },
     "output_type": "display_data"
    }
   ],
   "source": [
    "from matplotlib import pyplot as plt\n",
    "plt.plot(accs)\n",
    "plt.legend(['Accuracy'])\n",
    "plt.show()"
   ]
  },
  {
   "cell_type": "markdown",
   "metadata": {},
   "source": [
    "The test accuracy on this task should be well over 90%. If you are getting an accuracy much below this, play with your hyperparameters and try to improve. \n",
    "\n",
    "#### c) What is your final accuracy?"
   ]
  },
  {
   "cell_type": "code",
   "execution_count": 134,
   "metadata": {},
   "outputs": [
    {
     "data": {
      "text/plain": [
       "0.9484524538274333"
      ]
     },
     "execution_count": 134,
     "metadata": {},
     "output_type": "execute_result"
    }
   ],
   "source": [
    "accs[-1]"
   ]
  },
  {
   "cell_type": "code",
   "execution_count": 169,
   "metadata": {},
   "outputs": [
    {
     "data": {
      "text/plain": [
       "0.9238899174343431"
      ]
     },
     "execution_count": 169,
     "metadata": {},
     "output_type": "execute_result"
    }
   ],
   "source": [
    "accs[-1]"
   ]
  },
  {
   "cell_type": "markdown",
   "metadata": {},
   "source": [
    "#### d) A little error analysis\n",
    "Minimally, find a few instances of sentences with wrong tags. Can you say why these mistakes are made?\n",
    "Optionally, feel free is do a full error analysis. What are the most commonly confused tags for an English POS tagger?"
   ]
  },
  {
   "cell_type": "code",
   "execution_count": 176,
   "metadata": {},
   "outputs": [
    {
     "data": {
      "text/plain": [
       "\"In an Oct. 19 review of The Misanthrope at Chicago 's Goodman Theatre -LRB- Revitalized Classics Take the Stage in Windy City , Leisure & Arts -RRB- , the role of Celimene , played by Kim Cattrall , was mistakenly attributed to Christina Haag .\""
      ]
     },
     "execution_count": 176,
     "metadata": {},
     "output_type": "execute_result"
    }
   ],
   "source": [
    "sentences[0]"
   ]
  },
  {
   "cell_type": "code",
   "execution_count": 177,
   "metadata": {},
   "outputs": [
    {
     "data": {
      "text/plain": [
       "['IN',\n",
       " 'DT',\n",
       " 'NNP',\n",
       " 'CD',\n",
       " 'NN',\n",
       " 'IN',\n",
       " 'DT',\n",
       " 'NN',\n",
       " 'IN',\n",
       " 'NNP',\n",
       " 'POS',\n",
       " 'NNP',\n",
       " 'NNP',\n",
       " 'LRB',\n",
       " 'VBN',\n",
       " 'NNS',\n",
       " 'VBP',\n",
       " 'DT',\n",
       " 'NN',\n",
       " 'IN',\n",
       " 'NNP',\n",
       " 'NNP',\n",
       " ',',\n",
       " 'NN',\n",
       " 'CC',\n",
       " 'NNS',\n",
       " 'RRB',\n",
       " ',',\n",
       " 'DT',\n",
       " 'NN',\n",
       " 'IN',\n",
       " 'NNP',\n",
       " ',',\n",
       " 'VBN',\n",
       " 'IN',\n",
       " 'NNP',\n",
       " 'NNP',\n",
       " ',',\n",
       " 'VBD',\n",
       " 'RB',\n",
       " 'VBN',\n",
       " 'TO',\n",
       " 'NNP',\n",
       " 'NNP',\n",
       " '.']"
      ]
     },
     "execution_count": 177,
     "metadata": {},
     "output_type": "execute_result"
    }
   ],
   "source": [
    "postags[0]"
   ]
  },
  {
   "cell_type": "code",
   "execution_count": 178,
   "metadata": {},
   "outputs": [
    {
     "data": {
      "text/plain": [
       "<generator object Module.parameters at 0x1903a0050>"
      ]
     },
     "execution_count": 178,
     "metadata": {},
     "output_type": "execute_result"
    }
   ],
   "source": [
    "srn.parameters()"
   ]
  },
  {
   "cell_type": "markdown",
   "metadata": {},
   "source": [
    "your answer here"
   ]
  },
  {
   "cell_type": "markdown",
   "metadata": {},
   "source": [
    "**Congratulations!** 🎉 You are done with the required part! Now for some fun: "
   ]
  },
  {
   "cell_type": "markdown",
   "metadata": {},
   "source": [
    "### Optional[CCG Supertagging]\n",
    " See blackboard!"
   ]
  }
 ],
 "metadata": {
  "kernelspec": {
   "display_name": "Python 3",
   "language": "python",
   "name": "python3"
  },
  "language_info": {
   "codemirror_mode": {
    "name": "ipython",
    "version": 3
   },
   "file_extension": ".py",
   "mimetype": "text/x-python",
   "name": "python",
   "nbconvert_exporter": "python",
   "pygments_lexer": "ipython3",
   "version": "3.7.4"
  }
 },
 "nbformat": 4,
 "nbformat_minor": 2
}
