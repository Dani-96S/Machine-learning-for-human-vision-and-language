{
 "cells": [
  {
   "cell_type": "markdown",
   "metadata": {},
   "source": [
    "# 🔥 Torch Intro 🔥\n",
    "\n",
    "## What is PyTorch?\n",
    "PyTorch (or just torch) is a python deep learning library, fresh out of beta but already widely adopted both in research and industry. Like most deep learning libraries it employs GPU accelaration; unlike most deep learning libraries, it supports dynamic computational graphs and deep python integration, enabling easy experimentation and code inspection. It provides high-level abstractions but also allows for low-level access to its primitives. You can read more about PyTorch at the official [site](https://pytorch.org/).\n",
    "\n",
    "## Installing PyTorch on your machine\n",
    "Install PyTorch by following the guidelines here [here](https://pytorch.org/get-started/locally/).\n",
    "\n",
    "<div class=\"alert alert-block alert-info\">\n",
    "<b>Note:</b> If you have an nVidia GPU, installing a CUDA version of PyTorch will allow you to utilize it, significantly speeding up computation.\n",
    "</div>\n",
    "\n",
    "# This Tutorial\n",
    "This tutorial will take you through PyTorch's main functionalities. It only aims to give you some insight on how to use PyTorch and is by no means a full tutorial on neural networks. Prior knowledge of neural netowrks and their inner workings (i.e. linear algebra, gradient-based optimization, back-propagation etc) will certainly prove useful. You are assumed to know python fairly well.\n",
    "\n",
    "# Table of Contents\n",
    "1. [Tensors](#1)\n",
    "    1. [Tensor Types](#1a)\n",
    "    2. [Instantiating Tensors](#1b)\n",
    "    3. [Basic Tensor Operations](#1c)\n",
    "    4. [Exercises](#1d)\n",
    "2. [Automatic Differentation](#2)\n",
    "    1. [Autograd](#2a)\n",
    "    2. [Exercises](#2b)\n",
    "3. [Neural Networks](#3)\n",
    "    1. [Custom Neural Networks](#3a)\n",
    "    2. [Loss Functions](#3b)\n",
    "    3. [Optimizers](#3c)\n",
    "    4. [Exercises](#3d)\n",
    "4. [Putting Everything Together](#4)\n",
    "\n",
    "\n",
    "For a more in-depth overview of PyTorch's capabilities, refer to the [official documentation](https://pytorch.org/docs/stable/index.html) (this link will prove handy for your assignments-- keep it close and use it often).\n",
    "\n",
    "---"
   ]
  },
  {
   "cell_type": "markdown",
   "metadata": {},
   "source": [
    "#### Getting started\n",
    "Let's verify your torch installation is working by trying to import it."
   ]
  },
  {
   "cell_type": "code",
   "execution_count": 3,
   "metadata": {},
   "outputs": [],
   "source": [
    "import torch"
   ]
  },
  {
   "cell_type": "markdown",
   "metadata": {},
   "source": [
    "<a id='1'></a>\n",
    "## 1. Tensors\n",
    "\n",
    "A [Tensor](https://pytorch.org/docs/stable/tensors.html) is the building block of any PyTorch program; it is the abstraction that stores n-ary arrays of numbers (i.e. tensors) and provides various functionalities for processing them. \n",
    "\n",
    "<a id='1a'></a>\n",
    "### A. Tensor Types\n",
    "\n",
    "There are 16 types of Tensors, distinguished by their `dtypes` (the sort of numbers stored within them) and the `device` they can be accessed by (either GPU or CPU).\n",
    "\n",
    "The different Tensor types and their corresponding classes are shown below:\n",
    "\n",
    "|  | dtype | CPU Tensor Class | GPU Tensor Class |\n",
    "| --- | --- | --- | --- |\n",
    "| Full precision float | `torch.float32` | `torch.FloatTensor` | `torch.cuda.FloatTensor`| \n",
    "| Half precision float | `torch.float16` | `torch.HalfTensor` | `torch.cuda.HalfTensor` |\n",
    "| Double precision float | `torch.float64` | `torch.DoubleTensor` | `torch.cuda.DoubleTensor` |\n",
    "| 8-bit unsigned integer | `torch.uint8` | `torch.ByteTensor` | `torch.cuda.ByteTensor` |\n",
    "| 8-bit signed integer | `torch.int8` | `torch.CharTensor` | `torch.CharTensor` |\n",
    "| 16-bit signed integer | `torch.int16` | `torch.ShortTensor` | `torch.cuda.ShortTensor` |\n",
    "| 32-bit signed integer | `torch.int32` | `torch.IntTensor` | `torch.cuda.IntTensor` |\n",
    "| 64-bit signed integer | `torch.int64` | `torch.LongTensor` | `torch.cuda.LongTensor` |\n",
    "\n",
    "<div class=\"alert alert-block alert-warning\">\n",
    "<b>Warning:</b>\n",
    "Interaction between Tensors of different devices or dtypes is not permitted (so make sure you are consistent). \n",
    "</div>\n",
    "\n",
    "We are mostly interested in full precision floats and long integers (on either device), so we can forget about the rest of them for now."
   ]
  },
  {
   "cell_type": "markdown",
   "metadata": {},
   "source": [
    "<a id='1b'></a>\n",
    "### B. Instantiating Tensors\n",
    "Tensors can be instantiated in a number of ways. When we want to construct a placeholder tensor of fixed dimensionality, we may simply call the appropriate class constructor."
   ]
  },
  {
   "cell_type": "code",
   "execution_count": 104,
   "metadata": {},
   "outputs": [
    {
     "data": {
      "text/plain": [
       "tensor([[1.5414e-44, 0.0000e+00, 0.0000e+00, 0.0000e+00, 0.0000e+00],\n",
       "        [0.0000e+00, 0.0000e+00, 0.0000e+00, 0.0000e+00, 0.0000e+00],\n",
       "        [0.0000e+00, 0.0000e+00, 0.0000e+00, 0.0000e+00, 0.0000e+00],\n",
       "        [0.0000e+00, 0.0000e+00, 0.0000e+00, 0.0000e+00, 0.0000e+00],\n",
       "        [0.0000e+00, 0.0000e+00, 0.0000e+00, 0.0000e+00, 0.0000e+00]])"
      ]
     },
     "execution_count": 104,
     "metadata": {},
     "output_type": "execute_result"
    }
   ],
   "source": [
    "my_first_long_tensor = torch.LongTensor(5)  # a vector of 5 longs\n",
    "my_first_float_tensor = torch.FloatTensor(5,5)  # a 5 by 5 matrix of floats"
   ]
  },
  {
   "cell_type": "markdown",
   "metadata": {},
   "source": [
    "Alternatively, we may use the abstract constructor `torch.tensor` and use the `dtype` and `device` arguments to specify its type (these default to torch.float and cpu, in the general case)."
   ]
  },
  {
   "cell_type": "code",
   "execution_count": 8,
   "metadata": {},
   "outputs": [],
   "source": [
    "my_second_long_tensor = torch.tensor(5, device='cpu', dtype=torch.long) # another vector of 5 longs\n",
    "my_second_float_tensor = torch.tensor((5, 5), device='cpu', dtype=torch.float)"
   ]
  },
  {
   "cell_type": "markdown",
   "metadata": {},
   "source": [
    "For the sake of convenience, we will now specify the device used by the rest of the tutorial. If you have the cuda version installed but would rather not use it, change the snippet below."
   ]
  },
  {
   "cell_type": "code",
   "execution_count": 11,
   "metadata": {},
   "outputs": [
    {
     "name": "stdout",
     "output_type": "stream",
     "text": [
      "Using cpu\n"
     ]
    }
   ],
   "source": [
    "if torch.cuda.is_available():\n",
    "    device = 'cuda'\n",
    "else:\n",
    "    device = 'cpu'\n",
    "\n",
    "print('Using {}'.format(device))"
   ]
  },
  {
   "cell_type": "markdown",
   "metadata": {},
   "source": [
    "There are a few useful short-hands for constructing tensors with commonly used values. Let's use some of them."
   ]
  },
  {
   "cell_type": "code",
   "execution_count": 12,
   "metadata": {},
   "outputs": [],
   "source": [
    "a = torch.zeros((2,3,4), device=device)  # a 2 by 3 by 4 tensor of zeroes\n",
    "b = torch.ones(42, device=device)  # a vector of 42 ones\n",
    "c = torch.eye(3, device=device)  # the 3 by 3 identity matrix\n",
    "d = torch.rand((32,10,300), device=device)  # a 32 by 10 by 300 tensor of randoms\n",
    "e = torch.randint(low=0, high=10, size=(3,3), device=device)  # a 3 by 3 matrix of random integers between 0 and 10\n",
    "f = torch.arange(10, device=device)  # a vector containing the numbers 0 to 9 in ascending order"
   ]
  },
  {
   "cell_type": "markdown",
   "metadata": {},
   "source": [
    "We can always query a tensor's contents, shape, dtype and device."
   ]
  },
  {
   "cell_type": "code",
   "execution_count": 19,
   "metadata": {},
   "outputs": [
    {
     "name": "stdout",
     "output_type": "stream",
     "text": [
      "torch.Size([2, 3, 4])\n",
      "cpu\n",
      "\n",
      "\n",
      "torch.Size([42])\n",
      "cpu\n",
      "\n",
      "\n",
      "torch.Size([3, 3])\n",
      "cpu\n",
      "\n",
      "\n",
      "torch.Size([32, 10, 300])\n",
      "cpu\n",
      "\n",
      "\n",
      "torch.Size([3, 3])\n",
      "cpu\n",
      "\n",
      "\n",
      "torch.Size([10])\n",
      "cpu\n",
      "\n",
      "\n"
     ]
    }
   ],
   "source": [
    "for te in [a, b, c, d, e, f]:\n",
    "    print(te.shape)\n",
    "    print(te.device)\n",
    "    # print(te)\n",
    "    print('\\n')"
   ]
  },
  {
   "cell_type": "markdown",
   "metadata": {},
   "source": [
    "We can also specify the values of a tensor by passing a list (of lists*) of values during its construction."
   ]
  },
  {
   "cell_type": "code",
   "execution_count": 20,
   "metadata": {},
   "outputs": [
    {
     "name": "stdout",
     "output_type": "stream",
     "text": [
      "tensor([[1, 2, 3],\n",
      "        [4, 5, 6],\n",
      "        [7, 8, 9]])\n",
      "torch.Size([3, 3])\n",
      "torch.int64\n"
     ]
    }
   ],
   "source": [
    "a = torch.tensor([[1,2,3], [4,5,6], [7,8,9]], device=device)\n",
    "print(a)\n",
    "print(a.shape)\n",
    "print(a.dtype)"
   ]
  },
  {
   "cell_type": "markdown",
   "metadata": {},
   "source": [
    "Notice that PyTorch automatically assumed that the tensor we specified should be of type long (because we only provided integers as the tensor's contents). We could of course avoid this by manually specifying the dtype. Alternatively, we can alter the dtype and/or device post-construction."
   ]
  },
  {
   "cell_type": "code",
   "execution_count": 21,
   "metadata": {},
   "outputs": [
    {
     "name": "stdout",
     "output_type": "stream",
     "text": [
      "torch.float32\n",
      "cpu\n"
     ]
    }
   ],
   "source": [
    "a = a.to(torch.float)\n",
    "print(a.dtype)\n",
    "a = a.to('cpu')  # or alternatively, a = a.cpu()\n",
    "print(a.device)"
   ]
  },
  {
   "cell_type": "markdown",
   "metadata": {},
   "source": [
    "Finally, a torch tensor can also be directy constructed by (or converted to) a numpy array. Converting to a numpy array only works for _cpu_ tensors."
   ]
  },
  {
   "cell_type": "code",
   "execution_count": 22,
   "metadata": {},
   "outputs": [
    {
     "name": "stdout",
     "output_type": "stream",
     "text": [
      "[[0.03558522 0.51708823]\n",
      " [0.31556923 0.52743692]]\n",
      "tensor([[0.0356, 0.5171],\n",
      "        [0.3156, 0.5274]], dtype=torch.float64)\n",
      "[[0.03558522 0.51708823]\n",
      " [0.31556923 0.52743692]]\n"
     ]
    }
   ],
   "source": [
    "import numpy as np\n",
    "a_np = np.random.random((2,2))\n",
    "a_torch = torch.tensor(a_np, device=device)\n",
    "print(a_np)\n",
    "print(a_torch)\n",
    "a_np_2 = a_torch.cpu().numpy()\n",
    "print(a_np_2)"
   ]
  },
  {
   "cell_type": "code",
   "execution_count": 23,
   "metadata": {},
   "outputs": [],
   "source": [
    "del a_np, a_torch, a_np_2, b, c, d, my_first_long_tensor, my_first_float_tensor, my_second_long_tensor, my_second_float_tensor, e, f"
   ]
  },
  {
   "cell_type": "markdown",
   "metadata": {},
   "source": [
    "<a id='1c'></a>\n",
    "### C. Basic Tensor Operations\n",
    "Tensors and their contents' are not hidden by the framework-- they are immediatelly accessible to us and we can interact with them in many ways, while being able to inspect the results of our actions. Let's walk through some of the most common usecases."
   ]
  },
  {
   "cell_type": "markdown",
   "metadata": {},
   "source": [
    "#### Indexing and Slicing\n",
    "Standard python indexing and slicing applies to torch tensors. Let's remember how that works-- first we will need a random matrix to experiment with."
   ]
  },
  {
   "cell_type": "code",
   "execution_count": 35,
   "metadata": {},
   "outputs": [
    {
     "name": "stdout",
     "output_type": "stream",
     "text": [
      "tensor([[0.5752, 0.8732, 0.5363],\n",
      "        [0.5224, 0.9353, 0.5689],\n",
      "        [0.0141, 0.3419, 0.8879],\n",
      "        [0.8237, 0.8181, 0.0944],\n",
      "        [0.5765, 0.1284, 0.9013]])\n"
     ]
    }
   ],
   "source": [
    "a = torch.rand((5,3), device=device)  \n",
    "print(a)"
   ]
  },
  {
   "cell_type": "markdown",
   "metadata": {},
   "source": [
    "<div class=\"alert alert-block alert-warning\">\n",
    "<b>Remember!</b>\n",
    "Indexing starts from zero\n",
    "</div>\n",
    "\n",
    "Now let's try retrieving the 3rd item of the 1st row."
   ]
  },
  {
   "cell_type": "code",
   "execution_count": 25,
   "metadata": {},
   "outputs": [
    {
     "name": "stdout",
     "output_type": "stream",
     "text": [
      "tensor(0.9001)\n"
     ]
    }
   ],
   "source": [
    "b = a[0][2]\n",
    "print(b)"
   ]
  },
  {
   "cell_type": "markdown",
   "metadata": {},
   "source": [
    "What if we wanted the first three rows of the matrix instead?"
   ]
  },
  {
   "cell_type": "code",
   "execution_count": 26,
   "metadata": {},
   "outputs": [
    {
     "name": "stdout",
     "output_type": "stream",
     "text": [
      "tensor([[0.4731, 0.7492, 0.9001],\n",
      "        [0.6201, 0.4242, 0.2142],\n",
      "        [0.7055, 0.8893, 0.4347]])\n"
     ]
    }
   ],
   "source": [
    "c = a[:3]\n",
    "print(c)"
   ]
  },
  {
   "cell_type": "markdown",
   "metadata": {},
   "source": [
    "Or its third column?"
   ]
  },
  {
   "cell_type": "code",
   "execution_count": 27,
   "metadata": {},
   "outputs": [
    {
     "name": "stdout",
     "output_type": "stream",
     "text": [
      "tensor([0.9001, 0.2142, 0.4347, 0.8617, 0.4371])\n"
     ]
    }
   ],
   "source": [
    "c = a[:, 2]\n",
    "print(c)"
   ]
  },
  {
   "cell_type": "markdown",
   "metadata": {},
   "source": [
    "Or every second element of the first column, starting from the second?"
   ]
  },
  {
   "cell_type": "code",
   "execution_count": 28,
   "metadata": {},
   "outputs": [
    {
     "name": "stdout",
     "output_type": "stream",
     "text": [
      "tensor([0.6201, 0.2476])\n"
     ]
    }
   ],
   "source": [
    "c = a[1::2, 0]\n",
    "print(c)"
   ]
  },
  {
   "cell_type": "markdown",
   "metadata": {},
   "source": [
    "But now in reverse, starting from the last?!"
   ]
  },
  {
   "cell_type": "code",
   "execution_count": 29,
   "metadata": {},
   "outputs": [
    {
     "ename": "ValueError",
     "evalue": "negative step not yet supported",
     "output_type": "error",
     "traceback": [
      "\u001b[0;31m---------------------------------------------------------------------------\u001b[0m",
      "\u001b[0;31mValueError\u001b[0m                                Traceback (most recent call last)",
      "\u001b[0;32m<ipython-input-29-750cb89b0dfc>\u001b[0m in \u001b[0;36m<module>\u001b[0;34m\u001b[0m\n\u001b[0;32m----> 1\u001b[0;31m \u001b[0mc\u001b[0m \u001b[0;34m=\u001b[0m \u001b[0ma\u001b[0m\u001b[0;34m[\u001b[0m\u001b[0;34m-\u001b[0m\u001b[0;36m1\u001b[0m\u001b[0;34m:\u001b[0m\u001b[0;34m:\u001b[0m\u001b[0;34m-\u001b[0m\u001b[0;36m2\u001b[0m\u001b[0;34m,\u001b[0m \u001b[0;36m0\u001b[0m\u001b[0;34m]\u001b[0m\u001b[0;34m\u001b[0m\u001b[0;34m\u001b[0m\u001b[0m\n\u001b[0m\u001b[1;32m      2\u001b[0m \u001b[0mprint\u001b[0m\u001b[0;34m(\u001b[0m\u001b[0mc\u001b[0m\u001b[0;34m)\u001b[0m\u001b[0;34m\u001b[0m\u001b[0;34m\u001b[0m\u001b[0m\n",
      "\u001b[0;31mValueError\u001b[0m: negative step not yet supported"
     ]
    }
   ],
   "source": [
    "c = a[-1::-2, 0]\n",
    "print(c)"
   ]
  },
  {
   "cell_type": "markdown",
   "metadata": {},
   "source": [
    "Well, perhaps not.."
   ]
  },
  {
   "cell_type": "markdown",
   "metadata": {},
   "source": [
    "#### Value Assignment\n",
    "We can use the exact same scheme to assign values to tensors."
   ]
  },
  {
   "cell_type": "code",
   "execution_count": 51,
   "metadata": {},
   "outputs": [
    {
     "name": "stdout",
     "output_type": "stream",
     "text": [
      "tensor([[0.0000, 0.8732, 0.5363],\n",
      "        [0.5224, 0.9353, 0.5689],\n",
      "        [0.0141, 0.3419, 0.8879],\n",
      "        [0.8237, 0.8181, 0.0944],\n",
      "        [0.5765, 0.1284, 0.9013]])\n",
      "tensor([[0.0102, 0.2428, 0.3798],\n",
      "        [0.0031, 0.2009, 0.3615],\n",
      "        [0.2117, 0.9904, 0.1514],\n",
      "        [0.3396, 0.8465, 0.8845],\n",
      "        [0.3521, 0.7888, 0.7828]])\n",
      "tensor([[0.0000, 0.8732, 0.5363],\n",
      "        [0.2117, 0.9904, 0.1514],\n",
      "        [0.0141, 0.3419, 0.8879],\n",
      "        [0.8237, 0.8181, 0.0944],\n",
      "        [0.5765, 0.1284, 0.9013]])\n"
     ]
    }
   ],
   "source": [
    "# Set the top left item of the matrix to zero.\n",
    "a[0,0] = 0\n",
    "print(a)\n",
    "\n",
    "# Construct another random matrix of the same shape\n",
    "b = torch.rand_like(a, device=device)\n",
    "print(b)\n",
    "\n",
    "# Set the second row of matrix a to be the third row of matrix b\n",
    "a[1] = b[2]\n",
    "print(a)"
   ]
  },
  {
   "cell_type": "markdown",
   "metadata": {},
   "source": [
    "#### Element-wise Arithmetic\n",
    "Element-wise operations (most importantly comparison, addition, subtraction, multiplication and division) can be applied on tensors of compatible shapes (i.e. shapes that can be [broadcasted](https://pytorch.org/docs/stable/notes/broadcasting.html)). \n",
    "\n",
    "Two tensors are compatible if any of the two below conditions hold:\n",
    "* their shapes are the same \n",
    "* their trailing (i.e. last) N dimensions are the same (possibly excluding missing dimensions and dimensions of size 1)\n",
    "\n",
    "Scalars (single values) are compatible with tensors of any shape. Let's see some examples."
   ]
  },
  {
   "cell_type": "markdown",
   "metadata": {},
   "source": [
    "First, some fresh tensors."
   ]
  },
  {
   "cell_type": "code",
   "execution_count": 55,
   "metadata": {},
   "outputs": [],
   "source": [
    "a = torch.zeros((2, 3, 4), device=device)  \n",
    "b = torch.ones((2, 3, 4), device=device)  \n",
    "c = torch.ones((3, 4), device=device)  \n",
    "d = torch.ones((2, 3, 1), device=device)\n",
    "e = torch.rand((4, 3, 2), device=device)"
   ]
  },
  {
   "cell_type": "markdown",
   "metadata": {},
   "source": [
    "We can add a scalar to tensor a "
   ]
  },
  {
   "cell_type": "code",
   "execution_count": 56,
   "metadata": {},
   "outputs": [
    {
     "name": "stdout",
     "output_type": "stream",
     "text": [
      "torch.Size([2, 3, 4])\n"
     ]
    },
    {
     "data": {
      "text/plain": [
       "tensor([[[0.3000, 0.3000, 0.3000, 0.3000],\n",
       "         [0.3000, 0.3000, 0.3000, 0.3000],\n",
       "         [0.3000, 0.3000, 0.3000, 0.3000]],\n",
       "\n",
       "        [[0.3000, 0.3000, 0.3000, 0.3000],\n",
       "         [0.3000, 0.3000, 0.3000, 0.3000],\n",
       "         [0.3000, 0.3000, 0.3000, 0.3000]]])"
      ]
     },
     "execution_count": 56,
     "metadata": {},
     "output_type": "execute_result"
    }
   ],
   "source": [
    "a = a + 0.3\n",
    "print(a.shape)"
   ]
  },
  {
   "cell_type": "markdown",
   "metadata": {},
   "source": [
    "We can subtract b from a  (matching shapes)"
   ]
  },
  {
   "cell_type": "code",
   "execution_count": 57,
   "metadata": {},
   "outputs": [
    {
     "name": "stdout",
     "output_type": "stream",
     "text": [
      "torch.Size([2, 3, 4])\n"
     ]
    }
   ],
   "source": [
    "f = a - b\n",
    "print(f.shape)"
   ]
  },
  {
   "cell_type": "markdown",
   "metadata": {},
   "source": [
    "We can elementwise multiply a with c  (dimensions of c are the same as last dimensions of a)"
   ]
  },
  {
   "cell_type": "code",
   "execution_count": 59,
   "metadata": {},
   "outputs": [
    {
     "name": "stdout",
     "output_type": "stream",
     "text": [
      "torch.Size([2, 3, 4])\n"
     ]
    }
   ],
   "source": [
    "g =  a * c\n",
    "print(g.shape)"
   ]
  },
  {
   "cell_type": "markdown",
   "metadata": {},
   "source": [
    "We can elementwise divide a by d  (last dimension is 1, the rest of the dimensions match)"
   ]
  },
  {
   "cell_type": "code",
   "execution_count": 61,
   "metadata": {},
   "outputs": [
    {
     "name": "stdout",
     "output_type": "stream",
     "text": [
      "torch.Size([2, 3, 4])\n"
     ]
    }
   ],
   "source": [
    "h = a / d\n",
    "print(h.shape)"
   ]
  },
  {
   "cell_type": "markdown",
   "metadata": {},
   "source": [
    "We can elementwise raise a to d  (last dimension of d is 1, the rest of the dimensions match)"
   ]
  },
  {
   "cell_type": "code",
   "execution_count": 63,
   "metadata": {},
   "outputs": [
    {
     "name": "stdout",
     "output_type": "stream",
     "text": [
      "torch.Size([2, 3, 4])\n"
     ]
    }
   ],
   "source": [
    "i = a**d\n",
    "print(i.shape)"
   ]
  },
  {
   "cell_type": "markdown",
   "metadata": {},
   "source": [
    "And we can compare a with any of f, g, h"
   ]
  },
  {
   "cell_type": "code",
   "execution_count": 65,
   "metadata": {},
   "outputs": [
    {
     "name": "stdout",
     "output_type": "stream",
     "text": [
      "torch.Size([2, 3, 4])\n"
     ]
    }
   ],
   "source": [
    "j = a == f\n",
    "print(j.shape)"
   ]
  },
  {
   "cell_type": "markdown",
   "metadata": {},
   "source": [
    ".. but torch complains when we try to do that with e (shapes are incompatible)"
   ]
  },
  {
   "cell_type": "code",
   "execution_count": 68,
   "metadata": {},
   "outputs": [
    {
     "ename": "RuntimeError",
     "evalue": "The size of tensor a (2) must match the size of tensor b (4) at non-singleton dimension 2",
     "output_type": "error",
     "traceback": [
      "\u001b[0;31m---------------------------------------------------------------------------\u001b[0m",
      "\u001b[0;31mRuntimeError\u001b[0m                              Traceback (most recent call last)",
      "\u001b[0;32m<ipython-input-68-a2c3e750b318>\u001b[0m in \u001b[0;36m<module>\u001b[0;34m\u001b[0m\n\u001b[0;32m----> 1\u001b[0;31m \u001b[0me\u001b[0m \u001b[0;34m==\u001b[0m \u001b[0ma\u001b[0m\u001b[0;34m\u001b[0m\u001b[0;34m\u001b[0m\u001b[0m\n\u001b[0m",
      "\u001b[0;31mRuntimeError\u001b[0m: The size of tensor a (2) must match the size of tensor b (4) at non-singleton dimension 2"
     ]
    }
   ],
   "source": [
    "e == a"
   ]
  },
  {
   "cell_type": "code",
   "execution_count": 71,
   "metadata": {},
   "outputs": [],
   "source": [
    "del a, b, c, d, e, f, g, h, i, j"
   ]
  },
  {
   "cell_type": "markdown",
   "metadata": {},
   "source": [
    "If in doubt for what any of the element-wise operators actually do, try them out below on some tensors of your own making."
   ]
  },
  {
   "cell_type": "code",
   "execution_count": 70,
   "metadata": {
    "scrolled": true
   },
   "outputs": [
    {
     "data": {
      "text/plain": [
       "tensor([[[0.3000, 0.3000, 0.3000, 0.3000],\n",
       "         [0.3000, 0.3000, 0.3000, 0.3000],\n",
       "         [0.3000, 0.3000, 0.3000, 0.3000]],\n",
       "\n",
       "        [[0.3000, 0.3000, 0.3000, 0.3000],\n",
       "         [0.3000, 0.3000, 0.3000, 0.3000],\n",
       "         [0.3000, 0.3000, 0.3000, 0.3000]]])"
      ]
     },
     "execution_count": 70,
     "metadata": {},
     "output_type": "execute_result"
    }
   ],
   "source": []
  },
  {
   "cell_type": "markdown",
   "metadata": {},
   "source": [
    "#### Linear Algebra\n",
    "Tensor algebra of course goes well beyond elementwise operations- matrix multiplication is the bread and butter of machine learning, so we better get familiar with how torch does it."
   ]
  },
  {
   "cell_type": "markdown",
   "metadata": {},
   "source": [
    "As usual, we begin by instantiating our matrices. Matrix multiplication is defined between matrices A and B of shapes [M, N] and [N, O] respectively and yields a matrix C of shape [M, O]. The torch function that implements matrix multiplication is `torch.mm`."
   ]
  },
  {
   "cell_type": "code",
   "execution_count": 72,
   "metadata": {},
   "outputs": [
    {
     "name": "stdout",
     "output_type": "stream",
     "text": [
      "torch.Size([5, 8])\n"
     ]
    }
   ],
   "source": [
    "A = torch.rand([5,3], device=device)\n",
    "B = torch.rand([3,8], device=device)\n",
    "C = torch.mm(A, B)  # or alternatively, C = A @ B\n",
    "print(C.shape)"
   ]
  },
  {
   "cell_type": "markdown",
   "metadata": {},
   "source": [
    "What if we had a large numbers (i.e. a batch) of matrices A to each be multiplied with a matching B? We can use `torch.bmm` for efficient batch matrix multiplication.\n",
    "\n",
    "<div class=\"alert alert-block alert-info\">\n",
    "<b>Tip:</b> Rather than writing slow and ugly `for` loops, employ array programming to write your machine learning code. This will make it much more concise and dramatically more efficient.\n",
    "</div>"
   ]
  },
  {
   "cell_type": "code",
   "execution_count": 75,
   "metadata": {},
   "outputs": [
    {
     "name": "stdout",
     "output_type": "stream",
     "text": [
      "torch.Size([128, 5, 8])\n"
     ]
    }
   ],
   "source": [
    "bA = torch.rand([128, 5, 3], device=device)\n",
    "bB = torch.rand([128, 3, 8], device=device)\n",
    "bC = torch.bmm(bA, bB)  # bC = bA @ bC also works here!\n",
    "print(bC.shape)"
   ]
  },
  {
   "cell_type": "markdown",
   "metadata": {},
   "source": [
    "<div class=\"alert alert-block alert-warning\">\n",
    "<b>Warning:</b>\n",
    "Be careful not to confuse matrix multiplication `A@B` with the [Hadamard product](https://en.wikipedia.org/wiki/Hadamard_product_%28matrices%29) `A*B`\n",
    "\n",
    "</div>"
   ]
  },
  {
   "cell_type": "markdown",
   "metadata": {},
   "source": [
    "#### Shape Manipulation\n",
    "As we have seen, what we can do with tensors is largely dictated by their shapes. Adjusting a tensor's shape to allow for broadcasting or batching is therefore often necessary. The following functions should suffice for the bulk of shape manipulation tasks you might encounter."
   ]
  },
  {
   "cell_type": "markdown",
   "metadata": {},
   "source": [
    "Tensor tansposition is the generalization of matrix transposition. Since there are now more than 2 dimensions, we additionally need to specify the transposed dimensions. Take for instance a tensor of shape [M, N, O]. Converting it to a tensor of shape [N, M, O] requires transposing the first and second dimensions."
   ]
  },
  {
   "cell_type": "code",
   "execution_count": 76,
   "metadata": {},
   "outputs": [
    {
     "name": "stdout",
     "output_type": "stream",
     "text": [
      "torch.Size([5, 128, 3])\n"
     ]
    }
   ],
   "source": [
    "A = torch.rand([128, 5, 3], device=device)\n",
    "A = A.transpose(0, 1)\n",
    "print(A.shape)"
   ]
  },
  {
   "cell_type": "markdown",
   "metadata": {},
   "source": [
    "We may also choose to create a reshaped view of a tensor; for instance we may collapse two or more tensor dimensions into one.."
   ]
  },
  {
   "cell_type": "code",
   "execution_count": 77,
   "metadata": {},
   "outputs": [
    {
     "name": "stdout",
     "output_type": "stream",
     "text": [
      "torch.Size([640, 3])\n"
     ]
    }
   ],
   "source": [
    "A = torch.rand([128, 5, 3], device=device)\n",
    "A_collapsed = A.view(A.shape[0]*A.shape[1], A.shape[-1])\n",
    "print(A_collapsed.shape)"
   ]
  },
  {
   "cell_type": "markdown",
   "metadata": {},
   "source": [
    ".. or expand one dimension into two or more"
   ]
  },
  {
   "cell_type": "code",
   "execution_count": 78,
   "metadata": {},
   "outputs": [
    {
     "name": "stdout",
     "output_type": "stream",
     "text": [
      "torch.Size([128, 5, 3])\n"
     ]
    }
   ],
   "source": [
    "A_expanded = A_collapsed.view(128, 5, 3)\n",
    "print(A_expanded.shape)"
   ]
  },
  {
   "cell_type": "markdown",
   "metadata": {},
   "source": [
    "Let's convince ourselves that the back and forth between dimensions has left our tensor unaffected. First let's elementwise compare A with A_expanded."
   ]
  },
  {
   "cell_type": "code",
   "execution_count": 79,
   "metadata": {},
   "outputs": [
    {
     "name": "stdout",
     "output_type": "stream",
     "text": [
      "tensor([[[True, True, True],\n",
      "         [True, True, True],\n",
      "         [True, True, True],\n",
      "         [True, True, True],\n",
      "         [True, True, True]],\n",
      "\n",
      "        [[True, True, True],\n",
      "         [True, True, True],\n",
      "         [True, True, True],\n",
      "         [True, True, True],\n",
      "         [True, True, True]],\n",
      "\n",
      "        [[True, True, True],\n",
      "         [True, True, True],\n",
      "         [True, True, True],\n",
      "         [True, True, True],\n",
      "         [True, True, True]],\n",
      "\n",
      "        ...,\n",
      "\n",
      "        [[True, True, True],\n",
      "         [True, True, True],\n",
      "         [True, True, True],\n",
      "         [True, True, True],\n",
      "         [True, True, True]],\n",
      "\n",
      "        [[True, True, True],\n",
      "         [True, True, True],\n",
      "         [True, True, True],\n",
      "         [True, True, True],\n",
      "         [True, True, True]],\n",
      "\n",
      "        [[True, True, True],\n",
      "         [True, True, True],\n",
      "         [True, True, True],\n",
      "         [True, True, True],\n",
      "         [True, True, True]]])\n"
     ]
    }
   ],
   "source": [
    "comp = A == A_expanded\n",
    "print(comp)"
   ]
  },
  {
   "cell_type": "markdown",
   "metadata": {},
   "source": [
    "It seems to be okay! But what if there is a zero somewhere in there? Python's `all` and `any` may be used directly on torch bools to help us here."
   ]
  },
  {
   "cell_type": "code",
   "execution_count": 80,
   "metadata": {},
   "outputs": [
    {
     "name": "stdout",
     "output_type": "stream",
     "text": [
      "True\n"
     ]
    }
   ],
   "source": [
    "print(all([all(row) for matrix in comp for row in matrix]))"
   ]
  },
  {
   "cell_type": "markdown",
   "metadata": {},
   "source": [
    "Views are useful, but as the name suggests they only change our view of a tensor. Different views of a tensor have the same number of elements; the view is just changing in what order these are read.\n",
    "\n",
    "For cases where we would like to repeat a tensor across one or more of its axes (actually creating a larger tensor), we can use the function of the same name. Let's consider a tensor of shape [M, N] which we would like to turn into a tensor that repeats itself K times across the first dimension (i.e. a tensor of shape [K $\\cdot$ M, N]."
   ]
  },
  {
   "cell_type": "code",
   "execution_count": 81,
   "metadata": {},
   "outputs": [
    {
     "name": "stdout",
     "output_type": "stream",
     "text": [
      "torch.Size([15, 12])\n"
     ]
    }
   ],
   "source": [
    "A = torch.rand([5, 12], device=device)\n",
    "A_repeat = A.repeat(3, 1)  # note that we are specifying the number of repeats per dimension\n",
    "print(A_repeat.shape)"
   ]
  },
  {
   "cell_type": "markdown",
   "metadata": {},
   "source": [
    "#### Combining Tensors\n",
    "Sometimes we may want to construct a big tensor out of two small ones. There's a few ways to accomplish that, but the most reliable one is through `torch.cat` 🐈 (shorthand for concatenate).\n",
    "\n",
    "Two tensors may be concatenated if they agree on all their dimensions, except for the concatenation dimension."
   ]
  },
  {
   "cell_type": "code",
   "execution_count": 87,
   "metadata": {},
   "outputs": [
    {
     "name": "stdout",
     "output_type": "stream",
     "text": [
      "torch.Size([5, 2])\n"
     ]
    }
   ],
   "source": [
    "A = torch.rand([4,2], device=device)\n",
    "B = torch.rand([1,2], device=device)\n",
    "C = torch.cat((A, B), dim=0)\n",
    "print(C.shape)"
   ]
  },
  {
   "cell_type": "code",
   "execution_count": 88,
   "metadata": {},
   "outputs": [],
   "source": [
    "del A, B, C, comp, A_repeat, A_expanded, A_collapsed, bA, bB, bC"
   ]
  },
  {
   "cell_type": "markdown",
   "metadata": {},
   "source": [
    "---"
   ]
  },
  {
   "cell_type": "markdown",
   "metadata": {},
   "source": [
    "<a id='1d'></a>\n",
    "### Exercises\n",
    "It might be a good idea to take a short break here and recap on what we've seen before moving further. The mini-exercises below should help you test your grasp of this section."
   ]
  },
  {
   "cell_type": "markdown",
   "metadata": {},
   "source": [
    "Construct a tensor $A$ of shape [10, 10] containing random floats, and a tensor $B$ of the same shape where all its elements are equal to $\\pi$."
   ]
  },
  {
   "cell_type": "code",
   "execution_count": 121,
   "metadata": {},
   "outputs": [],
   "source": [
    "import math\n",
    "A = torch.rand((10, 10), dtype=torch.float)\n",
    "B = math.pi * torch.ones_like(A, device=device)"
   ]
  },
  {
   "cell_type": "markdown",
   "metadata": {},
   "source": [
    "Compute $C = AB^T$, the matrix multiplication of $A$ with the transpose of $B$ and $D = A\\cdot B$, their elementwise multiplication."
   ]
  },
  {
   "cell_type": "code",
   "execution_count": 151,
   "metadata": {},
   "outputs": [],
   "source": [
    "Bt = B.transpose(0,1)\n",
    "C = torch.mm(A, Bt)\n",
    "D = A*B"
   ]
  },
  {
   "cell_type": "markdown",
   "metadata": {},
   "source": [
    "Try comparing $C$ with $D$. Are they comparable? Are they equal? What is the dtype of their comparison?"
   ]
  },
  {
   "cell_type": "code",
   "execution_count": 131,
   "metadata": {},
   "outputs": [
    {
     "name": "stdout",
     "output_type": "stream",
     "text": [
      "torch.bool\n"
     ]
    }
   ],
   "source": [
    "comp = C == D # false\n",
    "print(comp.dtype)"
   ]
  },
  {
   "cell_type": "markdown",
   "metadata": {},
   "source": [
    "- They are comparable \n",
    "- They are not equal\n",
    "- The dtype of their comparison is torch.bool"
   ]
  },
  {
   "cell_type": "markdown",
   "metadata": {},
   "source": [
    "Multiply $A$ by 4 to create $F$. Now set all elements of $F$ that are above $\\pi$ to zero.\n",
    "\n",
    "\n",
    "_Hint 1_: You can index a tensor with a boolean tensor of the same dimensionality\n",
    "\n",
    "_Hint 2_: You can set multiple indexed elements to a single value at once"
   ]
  },
  {
   "cell_type": "code",
   "execution_count": 132,
   "metadata": {},
   "outputs": [],
   "source": [
    "F = A * 4\n",
    "F[F > math.pi] = 0"
   ]
  },
  {
   "cell_type": "markdown",
   "metadata": {},
   "source": [
    "The incomplete function below implements matrix multiplication with a for loop. Complete the function and call it with your $A$ and $B^T$ matrices as its arguments. The result should be the same as the matrix $C$ you computed before (with room for some numerical inaccuraccy)\n",
    "\n",
    "Note: You can use `torch.sum()` to compute the sum of a tensor (optionally specifying across which dimension)\n",
    "\n",
    "<div class=\"alert alert-block alert-info\">\n",
    "<b>Note:</b> [Type Hints](https://www.python.org/dev/peps/pep-0484/#rationale-and-goals) may be used in python function and variable declarations to give them a type signature. These type signatures are not strict (you can still bypass them), but they can help you organize your code. Type hints of incomplete functions given during assignments will inform you of what we expect your function to accept and return.\n",
    "</div>"
   ]
  },
  {
   "cell_type": "code",
   "execution_count": 160,
   "metadata": {},
   "outputs": [],
   "source": [
    "def my_mm(A: torch.FloatTensor, B: torch.FloatTensor) -> torch.FloatTensor:\n",
    "    assert A.shape[1] == B.shape[0]\n",
    "    assert (len(A.shape) == len(B.shape) == 2)\n",
    "    C = torch.zeros((A.shape[0], B.shape[1]), device=device)\n",
    "    for i in range(A.shape[0]):\n",
    "        for j in range(B.shape[1]):\n",
    "            C[i, j] = torch.sum(A[i,]*B[:,j])\n",
    "    return C\n",
    "    \n",
    "E = my_mm(A, B.transpose(1,0))\n",
    "\n",
    "# make sure the mean absolute difference between the two results is below 0.0001\n",
    "assert torch.sum(torch.abs(E - C))/(E.shape[0]*E.shape[1]) < 1e-4 "
   ]
  },
  {
   "cell_type": "markdown",
   "metadata": {},
   "source": [
    "Create a 2-dimensional tensor $S$ that consists by an instance of $A$ followed by two instances of $B$ followed by an instance of $A$ across its first dimension. What is the shape of $S$?"
   ]
  },
  {
   "cell_type": "code",
   "execution_count": 176,
   "metadata": {},
   "outputs": [
    {
     "name": "stdout",
     "output_type": "stream",
     "text": [
      "torch.Size([40, 10])\n"
     ]
    }
   ],
   "source": [
    "S = torch.cat((A,B,B,A), dim = 0)\n",
    "print(S.shape)"
   ]
  },
  {
   "cell_type": "markdown",
   "metadata": {},
   "source": [
    "Reshape $S$ into a tensor of shape [20, 2, 10]. \n",
    "Then transpose this into a tensor of shape [2, 10, 20]."
   ]
  },
  {
   "cell_type": "code",
   "execution_count": 177,
   "metadata": {},
   "outputs": [
    {
     "name": "stdout",
     "output_type": "stream",
     "text": [
      "torch.Size([2, 10, 20])\n"
     ]
    }
   ],
   "source": [
    "S = S.view(20, 2, 10)\n",
    "S = S.transpose(0,2)\n",
    "S = S.transpose(1,0)\n",
    "print(S.shape)"
   ]
  },
  {
   "cell_type": "code",
   "execution_count": 178,
   "metadata": {},
   "outputs": [],
   "source": [
    "del A, B, C, D, E, F, S"
   ]
  },
  {
   "cell_type": "markdown",
   "metadata": {},
   "source": [
    "---"
   ]
  },
  {
   "cell_type": "markdown",
   "metadata": {},
   "source": [
    "<a id='2'></a>\n",
    "## 2. Automatic Differentation and Neural Networks\n",
    "We have so far seen some of torch's computational capabilities; its GPU accelaration and multitude of high level functions make it suitable for array processing and vector arithmetic. But torch is more than a faster numpy; its key components, and where most of the magic happens, are in its automatic differentiation mechanics and neural network libraries.\n",
    "\n",
    "<a id='2a'></a>\n",
    "### A. Autograd\n",
    "Each torch tensor carries a flag around with it, `requires_grad`, which establishes whether that tensor requires gradient computation. \n",
    "\n",
    "By default, tensors do not require grad unless specified to. Whenever a tensor that requires grad assumes a role in the construction of another tensor, the new tensor also requires grad.\n",
    "By dynamically tracking dependencies in the evolving computation graph, and utilizing this flag, torch is able to inform itself on which tensors need to be updated by gradient descent, and which do not (naturally, only tensors for which gradients are computed will be updated).\n",
    "\n",
    "Practically, by setting `requires_grad` to `False` we can _freeze_ (parts of) our functions, making them static.\n",
    "\n",
    "Let's see this in action by modeling a simple linear transformation $f(x): Ax$ from $x \\in \\mathbb{R}^5$  to $y \\in \\mathbb{R}^7$:\n",
    "\n",
    "<div class=\"alert alert-block alert-info\">\n",
    "<b>Note:</b> Recall that a matrix of shape [M, N] is a linear map __from__ $\\mathbb{R}^N$ __to__ $\\mathbb{R}^M$.\n",
    "</div>"
   ]
  },
  {
   "cell_type": "code",
   "execution_count": 179,
   "metadata": {},
   "outputs": [],
   "source": [
    "A = torch.rand((7, 5), device=device) \n",
    "\n",
    "def f(x: torch.FloatTensor) -> torch.FloatTensor:\n",
    "    return A@x "
   ]
  },
  {
   "cell_type": "markdown",
   "metadata": {},
   "source": [
    "Let's test our function for some $x$, and check whether the result requires grad."
   ]
  },
  {
   "cell_type": "code",
   "execution_count": 180,
   "metadata": {},
   "outputs": [
    {
     "name": "stdout",
     "output_type": "stream",
     "text": [
      "tensor([0.2425, 0.1222, 0.1431, 0.0726, 0.1960, 0.1895, 0.1292])\n",
      "False\n"
     ]
    }
   ],
   "source": [
    "x = torch.rand(5, device=device)\n",
    "y = f(x)\n",
    "print(y)\n",
    "print(y.requires_grad)"
   ]
  },
  {
   "cell_type": "markdown",
   "metadata": {},
   "source": [
    "It does not; what if the parameters of our function $f$ were trainable though?"
   ]
  },
  {
   "cell_type": "code",
   "execution_count": 181,
   "metadata": {},
   "outputs": [
    {
     "name": "stdout",
     "output_type": "stream",
     "text": [
      "True\n"
     ]
    }
   ],
   "source": [
    "A.requires_grad = True\n",
    "y = f(x)\n",
    "print(y.requires_grad)"
   ]
  },
  {
   "cell_type": "markdown",
   "metadata": {},
   "source": [
    "The output of our linear transformation is now also trainable!\n"
   ]
  },
  {
   "cell_type": "markdown",
   "metadata": {},
   "source": [
    "---"
   ]
  },
  {
   "cell_type": "markdown",
   "metadata": {},
   "source": [
    "<a id='2b'></a>\n",
    "### Exercises\n",
    "Answer the next questions before you proceed."
   ]
  },
  {
   "cell_type": "markdown",
   "metadata": {},
   "source": [
    "Model an affine transformation $g(x) = Ax + \\beta$ from $x \\in \\mathbb{R}^3$ to $y \\in \\mathbb{R}^{12}$ as the composition of two functions, $f_1(x) = Ax$, $f_2(x) = x + \\beta$, such that $A$ requires grad but $\\beta$ does not.\n",
    "\n",
    "<div class=\"alert alert-block alert-info\">\n",
    "<b>Note:</b> You can use `requires_grad: bool` as an optional argument during tensor construction. Can you guess its default value?\n",
    "</div>"
   ]
  },
  {
   "cell_type": "code",
   "execution_count": 184,
   "metadata": {},
   "outputs": [],
   "source": [
    "A = torch.rand((12, 3), requires_grad = True, device=device) \n",
    "beta = torch.rand(12, device=device) \n",
    "\n",
    "def f_1(x: torch.FloatTensor) -> torch.FloatTensor:\n",
    "    return A@x\n",
    "\n",
    "def f_2(x: torch.FloatTensor) -> torch.FloatTensor:\n",
    "    return x+beta\n",
    "\n",
    "x = torch.rand(3, device=device)\n",
    "\n",
    "w = f_1(x)\n",
    "y = f_2(w)"
   ]
  },
  {
   "cell_type": "markdown",
   "metadata": {},
   "source": [
    "Try to figure out the answers on your own before checking the code.\n",
    "\n",
    "Let's assume $x$ is a fixed data sample, therefore does not require grad (we don't usually want to fit our data, but the function applied on the data!)\n",
    "\n",
    "* If $A$ requires grad but $\\beta$ doesn't, does $w$ require grad? Does $y$?\n",
    "\n",
    "* If $\\beta$ requires grad but $A$ doesn't, does $w$ require grad? Does $y$?\n",
    "\n",
    "What would that mean for $A$ and $\\beta$ during gradient descent?\n",
    "\n",
    "Verify your answers with code."
   ]
  },
  {
   "cell_type": "markdown",
   "metadata": {},
   "source": [
    "#### Answers before checking the code\n",
    "* If $A$ requires grad but $\\beta$ doesn't, $w$ requires grad and $y$ does too\n",
    "\n",
    "* If $\\beta$ requires grad but $A$ doesn't, $w$ does not require grad, but $y$ does"
   ]
  },
  {
   "cell_type": "code",
   "execution_count": 187,
   "metadata": {},
   "outputs": [
    {
     "name": "stdout",
     "output_type": "stream",
     "text": [
      "True\n",
      "True\n"
     ]
    }
   ],
   "source": [
    "print(w.requires_grad)\n",
    "print(y.requires_grad)"
   ]
  },
  {
   "cell_type": "code",
   "execution_count": 189,
   "metadata": {},
   "outputs": [
    {
     "name": "stdout",
     "output_type": "stream",
     "text": [
      "False\n",
      "True\n"
     ]
    }
   ],
   "source": [
    "A = torch.rand((12, 3)) \n",
    "beta = torch.rand(12, requires_grad = True) \n",
    "\n",
    "w = f_1(x)\n",
    "y = f_2(w)\n",
    "\n",
    "print(w.requires_grad)\n",
    "print(y.requires_grad)"
   ]
  },
  {
   "cell_type": "code",
   "execution_count": 190,
   "metadata": {},
   "outputs": [],
   "source": [
    "del A, beta, x, y, w, f, f_1, f_2"
   ]
  },
  {
   "cell_type": "markdown",
   "metadata": {},
   "source": [
    "---"
   ]
  },
  {
   "cell_type": "markdown",
   "metadata": {},
   "source": [
    "<a id='3'></a>\n",
    "\n",
    "## 3. Neural Networks\n",
    "We are very close to defining our first neural network in torch. Torch includes a powerful neural network library, `torch.nn`, which allows us to create our own custom network flows, use highly optimized off-the-shelf implementations of most standard kinds of networks and compose different networks together.\n",
    "\n",
    "<a id='3a'></a>\n",
    "### A. Custom Neural Networks\n",
    "You have already implemented an affine transformation; a shallow feedforward network is simply such a transformation followed by a non-linearity. For the sake of familiarizing ourselves with custom torch networks, we will go through the process of defining such a network from scratch (you won't normally be doing this, but it's still beneficial to have an idea of what's happening at the low level before proceeding to the high level).\n",
    "\n",
    "The building block for a torch network is the `torch.nn.Module` class; we need to define our networks as objects inheriting that class. If we do so, we only need to implement two functions: `__init__()` and `forward()`. The first is responsible for registering the internal variables of our network, while the second specifies the kind of computation it actually performs.\n",
    "\n",
    "Let's see these in practice; we will define a shallow feedforward network implementing $f(x) = \\sigma(Wx + \\beta)$ from any input dimension to any output dimension, where $\\sigma$ the sigmoid activation."
   ]
  },
  {
   "cell_type": "code",
   "execution_count": 191,
   "metadata": {},
   "outputs": [],
   "source": [
    "class my_first_network(torch.nn.Module):\n",
    "    def __init__(self, in_features: int, out_features: int, device: str) -> None:\n",
    "        super(my_first_network, self).__init__()  # this is important! do not forget to call this\n",
    "        self.device = device\n",
    "        self.W = torch.nn.Parameter(torch.rand(out_features, in_features, device=self.device))\n",
    "        self.beta = torch.nn.Parameter(torch.rand(out_features, device=self.device))\n",
    "        \n",
    "    def forward(self, x: torch.FloatTensor) -> torch.FloatTensor:\n",
    "        return torch.sigmoid(self.W@x + self.beta)"
   ]
  },
  {
   "cell_type": "markdown",
   "metadata": {},
   "source": [
    "<div class=\"alert alert-block alert-info\">\n",
    "<b>Note:</b> Notice the use of torch.nn.Parameter. Wrapping the tensors that are parametric to our network's function in torch.nn.Parameter is crucial as it informs torch that these tensors need to be stored, updated and shared between different function calls.\n",
    "</div>"
   ]
  },
  {
   "cell_type": "markdown",
   "metadata": {},
   "source": [
    "We can now test our first network class by instatiating an actual network and passing a random tensor through it."
   ]
  },
  {
   "cell_type": "code",
   "execution_count": 196,
   "metadata": {},
   "outputs": [
    {
     "name": "stdout",
     "output_type": "stream",
     "text": [
      "tensor([0.7377, 0.7510, 0.6400, 0.7313, 0.6523, 0.7118, 0.7688, 0.6959, 0.8263,\n",
      "        0.6675, 0.6488, 0.6497], grad_fn=<SigmoidBackward>)\n"
     ]
    }
   ],
   "source": [
    "f = my_first_network(in_features=3, out_features=12, device=device)\n",
    "x = torch.rand(3, device=device)\n",
    "y = f(x)\n",
    "print(y)"
   ]
  },
  {
   "cell_type": "markdown",
   "metadata": {},
   "source": [
    "<div class=\"alert alert-block alert-info\">\n",
    "<b>Note:</b> Notice that we can use `f(x)` instead of `f.forward(x)` -- `forward` overloads the `__call__` method of the `torch.nn.Module` class, so the above statements are equivalent.\n",
    "</div>"
   ]
  },
  {
   "cell_type": "markdown",
   "metadata": {},
   "source": [
    "Since we have the abstraction for one layer, what's stopping us from instantiating a second network and composing the two into a deep network?"
   ]
  },
  {
   "cell_type": "code",
   "execution_count": 197,
   "metadata": {},
   "outputs": [
    {
     "name": "stdout",
     "output_type": "stream",
     "text": [
      "tensor([0.9961, 0.9849, 0.9939, 0.9910, 0.9823], grad_fn=<SigmoidBackward>)\n"
     ]
    }
   ],
   "source": [
    "class my_first_deep_network(torch.nn.Module):\n",
    "    def __init__(self, in_features: int, intermediate_features: int, out_features: int, device: str) -> None:\n",
    "        super(my_first_deep_network, self).__init__()\n",
    "        self.device = device\n",
    "        self.n_1 = my_first_network(in_features=in_features, out_features=intermediate_features, device=self.device)\n",
    "        self.n_2 = my_first_network(in_features=intermediate_features, out_features=out_features, device=self.device)\n",
    "        \n",
    "    def forward(self, x: torch.FloatTensor) -> torch.FloatTensor:\n",
    "        return self.n_2(self.n_1(x))\n",
    "    \n",
    "g = my_first_deep_network(in_features=3, intermediate_features=12, out_features=5, device=device)\n",
    "y = g(x)\n",
    "print(y)"
   ]
  },
  {
   "cell_type": "markdown",
   "metadata": {},
   "source": [
    "Very easy, right?\n",
    "\n",
    "Except we just did it the hard way! We could have used torch's pre-made `torch.nn.Linear`, the existing abstraction for single feedforward layers, and `torch.nn.Sequential`, the abstraction for composing sequences of networks. `Sequential` is initiated by an iterable of neural modules (not functions!), which are applied in the order specified.\n",
    "\n",
    "How would that have looked like?"
   ]
  },
  {
   "cell_type": "code",
   "execution_count": 198,
   "metadata": {},
   "outputs": [
    {
     "name": "stdout",
     "output_type": "stream",
     "text": [
      "tensor([0.3863, 0.4524, 0.4855, 0.4004, 0.4484], grad_fn=<SigmoidBackward>)\n"
     ]
    }
   ],
   "source": [
    "h = torch.nn.Sequential(\n",
    "    torch.nn.Linear(in_features=3, out_features=12),\n",
    "    torch.nn.Sigmoid(), \n",
    "    torch.nn.Linear(in_features=12, out_features=5), \n",
    "    torch.nn.Sigmoid()  \n",
    ").to(device) \n",
    "\n",
    "y = h(x)\n",
    "print(y)"
   ]
  },
  {
   "cell_type": "markdown",
   "metadata": {},
   "source": [
    "Even easier!\n",
    "\n",
    "<div class=\"alert alert-block alert-info\">\n",
    "<b>Note:</b> When composing networks using the `Sequential` abstraction, you should make sure that each network's expected input shape matches the output shape of the previous network. The device conversion is applied recursively to each sub-module within a module, ensuring that all components of the network live happily in the same device. 🏠 \n",
    "</div>\n",
    "\n",
    "So, why ever define our own networks if torch can do it for us? The answer is that very often (and very soon!) it might be the case that you'll need to write your own, potentially complex, computation flow, which won't necesserily be possible to rephrase as simple layer stacking."
   ]
  },
  {
   "cell_type": "code",
   "execution_count": 199,
   "metadata": {},
   "outputs": [],
   "source": [
    "del x, y, h, g, f, my_first_network, my_first_deep_network"
   ]
  },
  {
   "cell_type": "markdown",
   "metadata": {},
   "source": [
    "<a id='3b'></a>\n",
    "### B.  Loss Functions\n",
    "\n",
    "We have seen how to construct parametric, trainable functions and networks. Requiring a gradient and having a gradient are two different things, however. To obtain the gradients of our trainable parameters we need a loss function. The loss function is an indicator of how far off the network's output (prediction) is from the actual truth. Applying the chain rule, we may differentiate the loss value w.r.t. the model's parameters, populating the tensors' gradients in the process. \n",
    "\n",
    "As with networks, torch provides implementations for the commonly used loss functions but also allows us to write our own (as another neural module!).\n",
    "\n",
    "We will only experiment with an existing loss function, but first we need to construct some data to play with-- we can create a synthetic data set of pairs $(x_i, y_i)$ where $x_i$ is a random number and $y_i = 3 \\cdot x_i - 2$"
   ]
  },
  {
   "cell_type": "code",
   "execution_count": 200,
   "metadata": {},
   "outputs": [],
   "source": [
    "# a tensor of shape 100, 1, i.e. 100 data points each of dimensionality 1\n",
    "x = torch.rand((100, 1), device=device) \n",
    "y = 3 * x - 2"
   ]
  },
  {
   "cell_type": "markdown",
   "metadata": {},
   "source": [
    "Time to employ a linear network.\n",
    "\n",
    "<div class=\"alert alert-block alert-warning\">\n",
    "<b>Warning:</b>\n",
    "Don't mix up input/output dimensionality and number of data samples! \n",
    "</div>"
   ]
  },
  {
   "cell_type": "code",
   "execution_count": 205,
   "metadata": {},
   "outputs": [],
   "source": [
    "f = torch.nn.Linear(in_features=1, out_features=1).to(device)\n",
    "prediction = f(x)"
   ]
  },
  {
   "cell_type": "markdown",
   "metadata": {},
   "source": [
    "Now to define our loss function:"
   ]
  },
  {
   "cell_type": "code",
   "execution_count": 206,
   "metadata": {},
   "outputs": [],
   "source": [
    "loss_fn = torch.nn.MSELoss()"
   ]
  },
  {
   "cell_type": "markdown",
   "metadata": {},
   "source": [
    "Note that each element of our batch (i.e. each of the 100 data samples) has its own MSE w.r.t. to its corresponding output. These unique losses are averaged into a single scalar by the loss function."
   ]
  },
  {
   "cell_type": "code",
   "execution_count": 207,
   "metadata": {},
   "outputs": [
    {
     "name": "stdout",
     "output_type": "stream",
     "text": [
      "tensor(0.4647, grad_fn=<MeanBackward0>)\n"
     ]
    }
   ],
   "source": [
    "loss = loss_fn(y, prediction)\n",
    "print(loss)"
   ]
  },
  {
   "cell_type": "markdown",
   "metadata": {},
   "source": [
    "Now that we have computed the loss, we may use it to populate the parameters' gradients via a backward pass. This is automagically done by a simple call of `backward`. 🧙"
   ]
  },
  {
   "cell_type": "code",
   "execution_count": 208,
   "metadata": {},
   "outputs": [],
   "source": [
    "loss.backward()"
   ]
  },
  {
   "cell_type": "markdown",
   "metadata": {},
   "source": [
    "Torch provides a few different loss functions, each for a particular usecase (the task and your output layer's activation function). Note that particular loss functions are already implementing the network's output activation internally. Refer to the [documentation](https://pytorch.org/docs/stable/nn.html#loss-functions) for a detailed overview. In most cases, the cheat-sheet below should contain the answer.\n",
    "\n",
    "<div class=\"alert alert-block alert-info\">\n",
    "<b>Tip:</b> At a loss on which loss to use? Use this cheat-sheet!\n",
    "</div>\n",
    "\n",
    "| Task | Activation | Loss Function |\n",
    "| --- | --- | --- | --- |\n",
    "| K-class Classification | - | CrossEntropyLoss |\n",
    "| K-class Classification | LogSoftmax | NLLLoss |\n",
    "| K-class, Multi-Label Classification | - | BCEWithLogitsLoss |\n",
    "| K-class, Multi-Label Classification | LogSigmoid | BCELoss |\n",
    "| Continuous Regression | - | MSELoss |\n",
    "| Probability Distribution Fitting | LogSoftmax / LogSigmoid | KLDivLoss |"
   ]
  },
  {
   "cell_type": "markdown",
   "metadata": {},
   "source": [
    "<a id='3c'></a>\n",
    "\n",
    "### C.  Optimizers\n",
    "Our struggles are slowly coming to an end. We have made a trainable network, we have computed the loss given the true output, and we have used the loss to populate the parameter gradients. The final thing to do is to use these gradients in order to update the parameter values. \n",
    "This is managed by an `Optimizer`. Gradient based optimizers are the norm for training neural networks; all of them are variants of stochastic gradient descent. Torch provides implementations of the classic optimizers. Regardless of which one of them is your favourite, the process always involves the same steps:\n",
    "1. Initiate the optimizer by letting it know which parameters it is going to be responsible for\n",
    "2. Iterate over your data, and:\n",
    "    2. Compute the loss\n",
    "    3. Back-propagate\n",
    "    4. Perform an optimization step\n",
    "    5. Zero out the gradients (so that they don't accumulate over optimization steps)\n",
    "\n",
    "Let's see them in action on our toy network and synthetic dataset."
   ]
  },
  {
   "cell_type": "code",
   "execution_count": 209,
   "metadata": {},
   "outputs": [
    {
     "name": "stdout",
     "output_type": "stream",
     "text": [
      "Iteration 0 loss: 0.4647263288497925\n",
      "Iteration 500 loss: 0.2956375479698181\n",
      "Iteration 1000 loss: 0.19104313850402832\n",
      "Iteration 1500 loss: 0.11331721395254135\n",
      "Iteration 2000 loss: 0.06093177571892738\n",
      "Iteration 2500 loss: 0.028859926387667656\n",
      "Iteration 3000 loss: 0.011529962532222271\n",
      "Iteration 3500 loss: 0.0036565980408340693\n",
      "Iteration 4000 loss: 0.0008487117011100054\n",
      "Iteration 4500 loss: 0.00012987098307348788\n",
      "Iteration 5000 loss: 1.1490937140479218e-05\n"
     ]
    }
   ],
   "source": [
    "opt = torch.optim.Adam(f.parameters())  # initiate optimizer\n",
    "for t in range(5001):  # iterate\n",
    "    prediction = f(x)  # predict \n",
    "    loss = loss_fn(prediction, y)  # compute loss\n",
    "    loss.backward()  # backpropagate\n",
    "    opt.step()  # optimize\n",
    "    opt.zero_grad()  # reset gradients\n",
    "    if t%500 == 0:\n",
    "        print('Iteration {} loss: {}'.format(t, loss.item()))"
   ]
  },
  {
   "cell_type": "markdown",
   "metadata": {},
   "source": [
    "Congratulations! You have trained your first torch network! 🎉\n",
    "\n",
    "You can now probe its inner parameters to see to what extent it figured out the truth."
   ]
  },
  {
   "cell_type": "code",
   "execution_count": 210,
   "metadata": {},
   "outputs": [
    {
     "name": "stdout",
     "output_type": "stream",
     "text": [
      "Parameter containing:\n",
      "tensor([[2.9875]], requires_grad=True)\n",
      "Parameter containing:\n",
      "tensor([-1.9936], requires_grad=True)\n"
     ]
    }
   ],
   "source": [
    "print(f.weight)\n",
    "print(f.bias)"
   ]
  },
  {
   "cell_type": "markdown",
   "metadata": {},
   "source": [
    "---"
   ]
  },
  {
   "cell_type": "markdown",
   "metadata": {},
   "source": [
    "<a id='3d'></a>\n",
    "\n",
    "### D. Exercises"
   ]
  },
  {
   "cell_type": "markdown",
   "metadata": {},
   "source": [
    "Before we move on to a somewhat more realistic problem, it might be a good idea to get further acquainted with the basics. \n",
    "\n",
    "Let's take a quick look at a few different non-linear activations first."
   ]
  },
  {
   "cell_type": "markdown",
   "metadata": {},
   "source": [
    "Use `arange` to construct a float tensor $x$ of values $0 \\dots 1000$ in ascending order. Then element-wise subtract $500$ and divide by $100$ to get a tensor of values $-5 \\dots 5$."
   ]
  },
  {
   "cell_type": "code",
   "execution_count": 242,
   "metadata": {},
   "outputs": [],
   "source": [
    "x = torch.arange(0,1001,1, dtype = torch.float)\n",
    "x = ( x - 500 ) / 100"
   ]
  },
  {
   "cell_type": "markdown",
   "metadata": {},
   "source": [
    "Construct the tensors $s = \\sigma(x)$, $t = tanh(x)$ and $r = ReLU(x)$."
   ]
  },
  {
   "cell_type": "code",
   "execution_count": 243,
   "metadata": {},
   "outputs": [],
   "source": [
    "s = torch.sigmoid(x)\n",
    "t = torch.tanh(x)\n",
    "r = torch.relu(x)"
   ]
  },
  {
   "cell_type": "markdown",
   "metadata": {},
   "source": [
    "Now we can convert these to numpy arrays and plot the results. "
   ]
  },
  {
   "cell_type": "code",
   "execution_count": 244,
   "metadata": {},
   "outputs": [
    {
     "ename": "TypeError",
     "evalue": "imshow() missing 1 required positional argument: 'X'",
     "output_type": "error",
     "traceback": [
      "\u001b[0;31m---------------------------------------------------------------------------\u001b[0m",
      "\u001b[0;31mTypeError\u001b[0m                                 Traceback (most recent call last)",
      "\u001b[0;32m<ipython-input-244-c1a804605d61>\u001b[0m in \u001b[0;36m<module>\u001b[0;34m\u001b[0m\n\u001b[1;32m      5\u001b[0m \u001b[0mplt\u001b[0m\u001b[0;34m.\u001b[0m\u001b[0mylim\u001b[0m\u001b[0;34m(\u001b[0m\u001b[0;34m(\u001b[0m\u001b[0;34m-\u001b[0m\u001b[0;36m2\u001b[0m\u001b[0;34m,\u001b[0m \u001b[0;36m5\u001b[0m\u001b[0;34m)\u001b[0m\u001b[0;34m)\u001b[0m\u001b[0;34m\u001b[0m\u001b[0;34m\u001b[0m\u001b[0m\n\u001b[1;32m      6\u001b[0m \u001b[0mplt\u001b[0m\u001b[0;34m.\u001b[0m\u001b[0mlegend\u001b[0m\u001b[0;34m(\u001b[0m\u001b[0;34m[\u001b[0m\u001b[0;34m'sigmoid'\u001b[0m\u001b[0;34m,\u001b[0m \u001b[0;34m'tanh'\u001b[0m\u001b[0;34m,\u001b[0m \u001b[0;34m'relu'\u001b[0m\u001b[0;34m]\u001b[0m\u001b[0;34m)\u001b[0m\u001b[0;34m\u001b[0m\u001b[0;34m\u001b[0m\u001b[0m\n\u001b[0;32m----> 7\u001b[0;31m \u001b[0mplt\u001b[0m\u001b[0;34m.\u001b[0m\u001b[0mimshow\u001b[0m\u001b[0;34m(\u001b[0m\u001b[0;34m)\u001b[0m\u001b[0;34m\u001b[0m\u001b[0;34m\u001b[0m\u001b[0m\n\u001b[0m\u001b[1;32m      8\u001b[0m \u001b[0mplt\u001b[0m\u001b[0;34m.\u001b[0m\u001b[0mshow\u001b[0m\u001b[0;34m(\u001b[0m\u001b[0;34m)\u001b[0m\u001b[0;34m\u001b[0m\u001b[0;34m\u001b[0m\u001b[0m\n",
      "\u001b[0;31mTypeError\u001b[0m: imshow() missing 1 required positional argument: 'X'"
     ]
    },
    {
     "data": {
      "image/png": "[encoded data removed]",
      "text/plain": [
       "<Figure size 432x288 with 1 Axes>"
      ]
     },
     "metadata": {
      "needs_background": "light"
     },
     "output_type": "display_data"
    }
   ],
   "source": [
    "from matplotlib import pyplot as plt\n",
    "plt.plot(x.cpu().numpy(),s.cpu().numpy())\n",
    "plt.plot(x.cpu().numpy(),t.cpu().numpy())\n",
    "plt.plot(x.cpu().numpy(),r.cpu().numpy())\n",
    "plt.ylim((-2, 5))\n",
    "plt.legend(['sigmoid', 'tanh', 'relu'])\n",
    "plt.imshow()\n",
    "plt.show()"
   ]
  },
  {
   "cell_type": "markdown",
   "metadata": {},
   "source": [
    "Let's practice some more by solving the infamous XOR problem with a small deep network. "
   ]
  },
  {
   "cell_type": "code",
   "execution_count": 245,
   "metadata": {},
   "outputs": [],
   "source": [
    "X = torch.tensor([[0, 0], [0, 1], [1, 0], [1, 1]], device=device, dtype=torch.float)\n",
    "Y = torch.tensor([0, 1, 1, 0], device=device, dtype=torch.float)"
   ]
  },
  {
   "cell_type": "markdown",
   "metadata": {},
   "source": [
    "Use `torch.nn.Sequential` to create a minimal deep network with 1 output dimension and 2 intermediate dimensions. Use ReLU as your intermediate layer activation. \n",
    "\n",
    "Picturing the problem as a classification over two classes, select an appropriate output activation and loss function (refer to the cheat-sheet for aid)."
   ]
  },
  {
   "cell_type": "code",
   "execution_count": 308,
   "metadata": {},
   "outputs": [],
   "source": [
    "f = torch.nn.Sequential(\n",
    "    torch.nn.Linear(in_features=2, out_features=4),\n",
    "    torch.nn.ReLU(),\n",
    "    torch.nn.Linear(in_features=4, out_features=1),\n",
    "    torch.nn.Sigmoid()\n",
    ").to(device)\n",
    "\n",
    "loss_fn = torch.nn.MSELoss()"
   ]
  },
  {
   "cell_type": "markdown",
   "metadata": {},
   "source": [
    "Instantiate an optimizer for your network."
   ]
  },
  {
   "cell_type": "code",
   "execution_count": 309,
   "metadata": {},
   "outputs": [],
   "source": [
    "opt = torch.optim.Adam(f.parameters(),lr=0.1)"
   ]
  },
  {
   "cell_type": "markdown",
   "metadata": {},
   "source": [
    "Perform 5000 iterations of training, printing the loss as you go."
   ]
  },
  {
   "cell_type": "code",
   "execution_count": 310,
   "metadata": {},
   "outputs": [
    {
     "name": "stdout",
     "output_type": "stream",
     "text": [
      "Iteration 0 loss: 0.25591573119163513\n",
      "Iteration 500 loss: 0.00010426665539853275\n",
      "Iteration 1000 loss: 3.165864836773835e-05\n",
      "Iteration 1500 loss: 1.5072042515384965e-05\n",
      "Iteration 2000 loss: 8.599050488555804e-06\n",
      "Iteration 2500 loss: 5.4186848501558416e-06\n",
      "Iteration 3000 loss: 3.6238025131751783e-06\n",
      "Iteration 3500 loss: 2.5197166451107478e-06\n",
      "Iteration 4000 loss: 1.7946179013961228e-06\n",
      "Iteration 4500 loss: 1.3067444797343342e-06\n",
      "Iteration 5000 loss: 9.647960723668803e-07\n"
     ]
    }
   ],
   "source": [
    "for t in range(5001):  # iterate\n",
    "    P = f(X)  # predict \n",
    "    loss = loss_fn(P,Y.view(4,1))  # compute loss\n",
    "    loss.backward()  # backpropagate\n",
    "    opt.step()  # optimize\n",
    "    opt.zero_grad()  # reset gradients\n",
    "    if t%500 == 0:\n",
    "        print('Iteration {} loss: {}'.format(t, loss.item()))"
   ]
  },
  {
   "cell_type": "markdown",
   "metadata": {},
   "source": [
    "You might encounter a shape error here. If you do, don't panic! Read it, understand what the problem is and remember `.view()`.\n",
    "\n",
    "Is the loss improving? If not, try toying around with the intermediate layer's width, the optimizer and its learning rate until your network can solve the problem."
   ]
  },
  {
   "cell_type": "code",
   "execution_count": 311,
   "metadata": {},
   "outputs": [],
   "source": [
    "del f, loss_fn, opt, X, Y"
   ]
  },
  {
   "cell_type": "markdown",
   "metadata": {},
   "source": [
    "<a id='3d'></a>\n",
    "## 4. Putting Everything Together\n",
    "Time to hone our newly acquired torch skills! \n",
    "\n",
    "We will now put everything together and write an actual network on a real task. The code below is mostly complete, but some parts here and there are missing. You will be asked to fill those in, so pay attention!"
   ]
  },
  {
   "cell_type": "markdown",
   "metadata": {},
   "source": [
    "First, construct a two-layer network that implements the function $f: \\mathbb{R}^{300} \\to \\mathbb{R}$, such that:\n",
    "\n",
    "$f(x) = W_2(ReLU(W_1x + \\beta_1) + \\beta_2$\n",
    "\n",
    "where:\n",
    "* $W_1 \\in \\mathbb{R}^{100, 300}$\n",
    "* $W_2 \\in \\mathbb{R}^{1, 100}$ \n",
    "* $ \\beta_1 \\in \\mathbb{R}^{100}$ \n",
    "* $\\beta_2 \\in \\mathbb{R}^1$\n",
    "\n",
    "\n",
    "using `torch.nn.Sequential` "
   ]
  },
  {
   "cell_type": "code",
   "execution_count": 312,
   "metadata": {},
   "outputs": [],
   "source": [
    "f = torch.nn.Sequential(\n",
    "    torch.nn.Linear(in_features = 300, out_features = 100),\n",
    "    torch.nn.ReLU(),\n",
    "    torch.nn.Linear(in_features = 100, out_features = 1),\n",
    ").to(device)"
   ]
  },
  {
   "cell_type": "markdown",
   "metadata": {},
   "source": [
    "Let's make some use of this network on real data.\n",
    "We are going to open a data dump containing ~5500 baby names. Each name is associated with a label (either 0 for male, or 1 for female), but also a 300-dimensional vector. Representing words as dense vectors is standard practice in NLP; you will learn more about these vectors in your first assignment. For now, we will simply use them in an attempt to teach the network to distinguish between boy and girl babies given their names, while writing some useful code in the process. 👶 🍼"
   ]
  },
  {
   "cell_type": "code",
   "execution_count": 314,
   "metadata": {},
   "outputs": [],
   "source": [
    "import pickle\n",
    "with open('name_data.p', 'rb') as file:\n",
    "    names, vectors, labels = pickle.load(file)"
   ]
  },
  {
   "cell_type": "markdown",
   "metadata": {},
   "source": [
    "What do our data look like? Run the snippet below a couple of times to get an impression."
   ]
  },
  {
   "cell_type": "code",
   "execution_count": 316,
   "metadata": {},
   "outputs": [
    {
     "name": "stdout",
     "output_type": "stream",
     "text": [
      "[['Caryn' '1']\n",
      " ['Gardiner' '0']\n",
      " ['Dotti' '1']\n",
      " ['Victoria' '1']\n",
      " ['Juliet' '1']\n",
      " ['Cybil' '1']\n",
      " ['Eliot' '0']\n",
      " ['Ora' '1']\n",
      " ['Scarlett' '1']\n",
      " ['Edith' '1']\n",
      " ['Bennie' '1']\n",
      " ['Chadd' '0']\n",
      " ['Belva' '1']\n",
      " ['Tan' '0']\n",
      " ['Goose' '0']\n",
      " ['Florencia' '1']\n",
      " ['Courtenay' '1']\n",
      " ['Harald' '0']\n",
      " ['Matias' '0']\n",
      " ['George' '1']]\n"
     ]
    }
   ],
   "source": [
    "print(np.random.permutation(list(zip(names, labels)))[0:20])"
   ]
  },
  {
   "cell_type": "markdown",
   "metadata": {},
   "source": [
    "`vectors` is a list of numpy arrays, and `labels` is a list of integers. We will need to convert them to lists of FloatTensors. Since that is a lot of data, it is unlikely for them to all fit in the GPU, so we will use the RAM as a temporary storage regardless of your currently used device."
   ]
  },
  {
   "cell_type": "code",
   "execution_count": 317,
   "metadata": {},
   "outputs": [],
   "source": [
    "# or alternatively, vectors = [torch.tensor(vector) for vector in vectors]\n",
    "vectors = list(map(lambda x: torch.tensor(x, dtype=torch.float), vectors))\n",
    "labels = list(map(lambda x: torch.tensor(x, dtype=torch.float), labels))  "
   ]
  },
  {
   "cell_type": "markdown",
   "metadata": {},
   "source": [
    "Training on your entire dataset is bad practice; we should split the data into a training set and a validation set. We could either do it manually, or let `sklearn` do it for us."
   ]
  },
  {
   "cell_type": "code",
   "execution_count": 320,
   "metadata": {},
   "outputs": [],
   "source": [
    "from sklearn.model_selection import train_test_split\n",
    "names_train, names_val, X_train, X_val, Y_train, Y_val = train_test_split(names, vectors, labels, test_size=0.2)\n",
    "assert len(X_train) == len(Y_train) == len(names_train)\n",
    "assert len(X_val) == len(Y_val) == len(names_val)"
   ]
  },
  {
   "cell_type": "markdown",
   "metadata": {},
   "source": [
    "Now that we have split the data, we may convert them from a list of tensors onto a big tensor. We could do that by using `view()` to expand the first dimension of each vector and then `cat()` to merge them, but an easier shorthand is `stack()`."
   ]
  },
  {
   "cell_type": "code",
   "execution_count": 321,
   "metadata": {},
   "outputs": [
    {
     "name": "stdout",
     "output_type": "stream",
     "text": [
      "torch.Size([4310, 300])\n",
      "torch.Size([1078, 300])\n",
      "torch.Size([4310])\n",
      "torch.Size([1078])\n"
     ]
    }
   ],
   "source": [
    "X_train = torch.stack(X_train)\n",
    "X_val = torch.stack(X_val)\n",
    "Y_train = torch.tensor(Y_train)\n",
    "Y_val = torch.tensor(Y_val)\n",
    "print(X_train.shape)\n",
    "print(X_val.shape)\n",
    "print(Y_train.shape)\n",
    "print(Y_val.shape)"
   ]
  },
  {
   "cell_type": "markdown",
   "metadata": {},
   "source": [
    "Now that we have our tensors in a sensible format, we may construct a Dataset (a storage unit for our data) and a DataLoader (a wrapper responsible for shuffling the data, iterating through them and converting them to batches)."
   ]
  },
  {
   "cell_type": "code",
   "execution_count": 322,
   "metadata": {},
   "outputs": [],
   "source": [
    "from torch.utils.data import TensorDataset\n",
    "from torch.utils.data import DataLoader\n",
    "\n",
    "train_dataset = TensorDataset(X_train, Y_train)\n",
    "train_dataloader = DataLoader(train_dataset, batch_size=32, shuffle=True)\n",
    "val_dataset = TensorDataset(X_val, Y_val)\n",
    "val_dataloader = DataLoader(val_dataset, batch_size=32, shuffle=False)  # no need to shuffle the validation data"
   ]
  },
  {
   "cell_type": "markdown",
   "metadata": {},
   "source": [
    "Let's begin and immediately stop an iteration through the training dataloader to get an idea of what's going on."
   ]
  },
  {
   "cell_type": "code",
   "execution_count": 323,
   "metadata": {},
   "outputs": [
    {
     "name": "stdout",
     "output_type": "stream",
     "text": [
      "torch.Size([32, 300])\n",
      "torch.float32\n",
      "torch.Size([32])\n",
      "torch.float32\n"
     ]
    }
   ],
   "source": [
    "for batch_x, batch_y in train_dataloader:\n",
    "    print(batch_x.shape)\n",
    "    print(batch_x.dtype)\n",
    "    print(batch_y.shape)\n",
    "    print(batch_y.dtype)\n",
    "    break\n"
   ]
  },
  {
   "cell_type": "markdown",
   "metadata": {},
   "source": [
    "Looking good; batch_x is 32 300-dimensional vectors, and batch_y is 32 values."
   ]
  },
  {
   "cell_type": "markdown",
   "metadata": {},
   "source": [
    "`train_batch()` is a function that takes a network, a batch of inputs, a batch of outputs, a loss function and an optimizer, runs the training routine on that batch and returns the loss value of that batch"
   ]
  },
  {
   "cell_type": "code",
   "execution_count": 324,
   "metadata": {},
   "outputs": [],
   "source": [
    "from typing import Callable, List\n",
    "\n",
    "# Callable is typed as Callable[[i1, i2, ..], o]\n",
    "# where i1, i2, .. the input types and o the output type\n",
    "\n",
    "def train_batch(network: torch.nn.Module,  # the network\n",
    "                X_batch: torch.FloatTensor,  # the X batch\n",
    "                Y_batch: torch.LongTensor,   # the Y batch\n",
    "                # a function from a FloatTensor (prediction) and a FloatTensor (Y) to a FloatTensor (the loss)\n",
    "                loss_fn: Callable[[torch.FloatTensor, torch.FloatTensor], torch.FloatTensor],  \n",
    "                # the optimizer\n",
    "                optimizer: torch.optim.Optimizer) -> float:\n",
    "    \n",
    "    network.train()\n",
    "    \n",
    "    prediction_batch = network(X_batch)  # forward pass\n",
    "    batch_loss = loss_fn(prediction_batch.view(-1), Y_batch)  # loss calculation\n",
    "    batch_loss.backward()  # gradient computation\n",
    "    optimizer.step()  # back-propagation\n",
    "    optimizer.zero_grad()  # gradient reset\n",
    "    return batch_loss.item()"
   ]
  },
  {
   "cell_type": "markdown",
   "metadata": {},
   "source": [
    "<div class=\"alert alert-block alert-info\">\n",
    "<b>Note:</b> Several network components (e.g. dropout units) may behave differently during training and validation. We use `.train()` to inform the network that we are in training time.\n",
    "</div>\n",
    "\n",
    "<div class=\"alert alert-block alert-warning\">\n",
    "<b>Warning:</b>\n",
    "The `batch_loss` tensor requires gradient (why?). It is important to return its contents with `.item()` rather than the tensor itself, otherwise we risk memory leak because of the accumulated gradient tracking.\n",
    "</div>"
   ]
  },
  {
   "cell_type": "markdown",
   "metadata": {},
   "source": [
    "`train_epoch()` is a function that takes a network, the training dataloader, a loss function and an optimizer. It iterates through the dataloader and is responsible for calling `train_batch()`."
   ]
  },
  {
   "cell_type": "code",
   "execution_count": 325,
   "metadata": {},
   "outputs": [],
   "source": [
    "def train_epoch(network: torch.nn.Module, \n",
    "                # a list of data points x\n",
    "                dataloader: DataLoader,\n",
    "                loss_fn: Callable[[torch.FloatTensor, torch.FloatTensor], torch.FloatTensor],\n",
    "                optimizer: torch.optim.Optimizer, \n",
    "                device: str) -> float:\n",
    "    \n",
    "    loss = 0.\n",
    "    \n",
    "    for i, (x_batch, y_batch) in enumerate(dataloader):\n",
    "        x_batch = x_batch.to(device)  # convert back to your chosen device\n",
    "        y_batch = y_batch.to(device)\n",
    "        loss += train_batch(network=network, X_batch=x_batch, Y_batch=y_batch, loss_fn=loss_fn, optimizer=optimizer)\n",
    "    loss /= (i+1) # divide loss by number of batches for consistency \n",
    "        \n",
    "    return loss"
   ]
  },
  {
   "cell_type": "markdown",
   "metadata": {},
   "source": [
    "Your turn; fill in the missing parts of `eval_batch()`, a function that takes a network, a batch of inputs, a batch of outputs and a loss function, and computes the loss of that batch."
   ]
  },
  {
   "cell_type": "code",
   "execution_count": 326,
   "metadata": {},
   "outputs": [],
   "source": [
    "def eval_batch(network: torch.nn.Module,  # the network\n",
    "                X_batch: torch.FloatTensor,  # the X batch\n",
    "                Y_batch: torch.LongTensor,   # the Y batch\n",
    "                loss_fn: Callable[[torch.FloatTensor, torch.LongTensor], torch.FloatTensor]) -> float:\n",
    "    \n",
    "    network.eval()\n",
    "    \n",
    "    with torch.no_grad():\n",
    "        prediction_batch = network(X_batch)\n",
    "        batch_loss = loss_fn(prediction_batch.view(-1), Y_batch)\n",
    "    \n",
    "    return batch_loss.item()"
   ]
  },
  {
   "cell_type": "markdown",
   "metadata": {},
   "source": [
    "<div class=\"alert alert-block alert-info\">\n",
    "<b>Note:</b> Notice that we use `.eval()` to inform the network we are in validation time. Notice also the `no_grad()` context; this is telling torch that it doesn't need to bother with gradient tracking momentarily, providing a significant speed-up for the current session.\n",
    "</div>"
   ]
  },
  {
   "cell_type": "markdown",
   "metadata": {},
   "source": [
    "`eval_epoch()` is basically the same as `train_epoch()`, aside the lack of an optimizer. Fill it in."
   ]
  },
  {
   "cell_type": "code",
   "execution_count": 327,
   "metadata": {},
   "outputs": [],
   "source": [
    "def eval_epoch(network: torch.nn.Module, \n",
    "                # a list of data points x\n",
    "                dataloader: DataLoader,\n",
    "                loss_fn: Callable[[torch.FloatTensor, torch.LongTensor], torch.FloatTensor],\n",
    "                device: str) -> float:\n",
    "\n",
    "    loss = 0.\n",
    "    \n",
    "    for i, (x_batch, y_batch) in enumerate(dataloader):\n",
    "        x_batch = x_batch.to(device)  # convert back to your chosen device\n",
    "        y_batch = y_batch.to(device)\n",
    "        loss += eval_batch(network=network, X_batch=x_batch, Y_batch=y_batch, loss_fn=loss_fn)\n",
    "    loss /= (i+1) # divide loss by number of batches for consistency \n",
    "        \n",
    "    return loss"
   ]
  },
  {
   "cell_type": "markdown",
   "metadata": {},
   "source": [
    "We can also make an auxilliary `infer_batch()` function; the forward pass gives us the final layer's output, but we might just be interested in the predicted class rather than its probability."
   ]
  },
  {
   "cell_type": "code",
   "execution_count": 328,
   "metadata": {},
   "outputs": [],
   "source": [
    "def infer_batch(network: torch.nn.Module, \n",
    "                batch_x: torch.FloatTensor, \n",
    "                device: str) -> torch.LongTensor:\n",
    "    \n",
    "    # first apply the sigmoid activation (since it is implemented by the loss function rather than the network itself)\n",
    "    sigm = torch.sigmoid(network(batch_x.to(device)))\n",
    "    # round the result\n",
    "    classes = torch.round(sigm)\n",
    "    # detach it from the computation graph (we no longer care about its gradients)\n",
    "    classes = classes.detach()\n",
    "    # cast the result into a LongTensor and return\n",
    "    return classes.to(torch.long)"
   ]
  },
  {
   "cell_type": "markdown",
   "metadata": {},
   "source": [
    "One last thing before we can finally train; we need a loss function and an optimizer. "
   ]
  },
  {
   "cell_type": "code",
   "execution_count": 329,
   "metadata": {},
   "outputs": [],
   "source": [
    "opt = torch.optim.Adam(f.parameters(), lr=1e-05)\n",
    "loss_fn = torch.nn.BCEWithLogitsLoss(reduction='mean')"
   ]
  },
  {
   "cell_type": "code",
   "execution_count": 330,
   "metadata": {},
   "outputs": [
    {
     "name": "stdout",
     "output_type": "stream",
     "text": [
      "Epoch 0\n",
      " Training Loss: 0.6844523248849091\n",
      " Validation Loss: 0.6797672895824208\n",
      "Epoch 1\n",
      " Training Loss: 0.6762765654811153\n",
      " Validation Loss: 0.6723275114508236\n",
      "Epoch 2\n",
      " Training Loss: 0.6683605538474189\n",
      " Validation Loss: 0.6647795841974371\n",
      "Epoch 3\n",
      " Training Loss: 0.6602270386837147\n",
      " Validation Loss: 0.6570829731576583\n",
      "Epoch 4\n",
      " Training Loss: 0.6519680477954723\n",
      " Validation Loss: 0.6490182105232688\n",
      "Epoch 5\n",
      " Training Loss: 0.643478501284564\n",
      " Validation Loss: 0.6405735822284923\n",
      "Epoch 6\n",
      " Training Loss: 0.6347065779897901\n",
      " Validation Loss: 0.6317783085738912\n",
      "Epoch 7\n",
      " Training Loss: 0.6255871265022843\n",
      " Validation Loss: 0.6225919548202964\n",
      "Epoch 8\n",
      " Training Loss: 0.6160685826230932\n",
      " Validation Loss: 0.6131816576508915\n",
      "Epoch 9\n",
      " Training Loss: 0.6065018168202153\n",
      " Validation Loss: 0.6033053012455211\n",
      "Epoch 10\n",
      " Training Loss: 0.5965219457944234\n",
      " Validation Loss: 0.5933367259362164\n",
      "Epoch 11\n",
      " Training Loss: 0.5863841851552327\n",
      " Validation Loss: 0.583307097939884\n",
      "Epoch 12\n",
      " Training Loss: 0.576245375474294\n",
      " Validation Loss: 0.5731813609600067\n",
      "Epoch 13\n",
      " Training Loss: 0.5661347685036836\n",
      " Validation Loss: 0.5631284485845005\n",
      "Epoch 14\n",
      " Training Loss: 0.5561309121273182\n",
      " Validation Loss: 0.5531070363872191\n",
      "Epoch 15\n",
      " Training Loss: 0.5461301505565643\n",
      " Validation Loss: 0.543375716489904\n",
      "Epoch 16\n",
      " Training Loss: 0.5364773125560195\n",
      " Validation Loss: 0.5338721880141426\n",
      "Epoch 17\n",
      " Training Loss: 0.5270577876656144\n",
      " Validation Loss: 0.5245889442808488\n",
      "Epoch 18\n",
      " Training Loss: 0.517713827557034\n",
      " Validation Loss: 0.5155163652756635\n",
      "Epoch 19\n",
      " Training Loss: 0.5089161583670864\n",
      " Validation Loss: 0.5070365053765914\n",
      "Epoch 20\n",
      " Training Loss: 0.5003273005838748\n",
      " Validation Loss: 0.4986748011673198\n",
      "Epoch 21\n",
      " Training Loss: 0.4921669935738599\n",
      " Validation Loss: 0.4908473982530482\n",
      "Epoch 22\n",
      " Training Loss: 0.4844250718752543\n",
      " Validation Loss: 0.48338357490651745\n",
      "Epoch 23\n",
      " Training Loss: 0.4769862762203923\n",
      " Validation Loss: 0.4761217201457304\n",
      "Epoch 24\n",
      " Training Loss: 0.46961546032517043\n",
      " Validation Loss: 0.46925468216924104\n",
      "Epoch 25\n",
      " Training Loss: 0.46292109732274656\n",
      " Validation Loss: 0.4628569168203017\n",
      "Epoch 26\n",
      " Training Loss: 0.4568978472992226\n",
      " Validation Loss: 0.45688241807853475\n",
      "Epoch 27\n",
      " Training Loss: 0.45062888904854104\n",
      " Validation Loss: 0.4511163278537638\n",
      "Epoch 28\n",
      " Training Loss: 0.444997709106516\n",
      " Validation Loss: 0.44575443162637596\n",
      "Epoch 29\n",
      " Training Loss: 0.439953515485481\n",
      " Validation Loss: 0.4407244482461144\n",
      "Epoch 30\n",
      " Training Loss: 0.434722829968841\n",
      " Validation Loss: 0.43587610213195577\n",
      "Epoch 31\n",
      " Training Loss: 0.42967552962126554\n",
      " Validation Loss: 0.43152011580326977\n",
      "Epoch 32\n",
      " Training Loss: 0.4252245960412202\n",
      " Validation Loss: 0.42742304766879363\n",
      "Epoch 33\n",
      " Training Loss: 0.42121388492760836\n",
      " Validation Loss: 0.42348239001105814\n",
      "Epoch 34\n",
      " Training Loss: 0.4171785467200809\n",
      " Validation Loss: 0.41977322539862466\n",
      "Epoch 35\n",
      " Training Loss: 0.41342132908326606\n",
      " Validation Loss: 0.4163535675581764\n",
      "Epoch 36\n",
      " Training Loss: 0.410176889984696\n",
      " Validation Loss: 0.4132176865549648\n",
      "Epoch 37\n",
      " Training Loss: 0.406749403918231\n",
      " Validation Loss: 0.4101872584399055\n",
      "Epoch 38\n",
      " Training Loss: 0.4038473239651433\n",
      " Validation Loss: 0.40736714093124166\n",
      "Epoch 39\n",
      " Training Loss: 0.40090750753879545\n",
      " Validation Loss: 0.40477918000782237\n",
      "Epoch 40\n",
      " Training Loss: 0.3979678585573479\n",
      " Validation Loss: 0.402314775130328\n",
      "Epoch 41\n",
      " Training Loss: 0.3955374338008739\n",
      " Validation Loss: 0.3999679693404366\n",
      "Epoch 42\n",
      " Training Loss: 0.3929847197400199\n",
      " Validation Loss: 0.39779063095064726\n",
      "Epoch 43\n",
      " Training Loss: 0.3908280975288815\n",
      " Validation Loss: 0.3957199839984669\n",
      "Epoch 44\n",
      " Training Loss: 0.3882335995082502\n",
      " Validation Loss: 0.393861546235926\n",
      "Epoch 45\n",
      " Training Loss: 0.38632237127533664\n",
      " Validation Loss: 0.3920341887894799\n",
      "Epoch 46\n",
      " Training Loss: 0.38486491585219346\n",
      " Validation Loss: 0.3904031602775349\n",
      "Epoch 47\n",
      " Training Loss: 0.38276301313329625\n",
      " Validation Loss: 0.388791585669798\n",
      "Epoch 48\n",
      " Training Loss: 0.38074826620243213\n",
      " Validation Loss: 0.3873709212331211\n",
      "Epoch 49\n",
      " Training Loss: 0.3791547975054494\n",
      " Validation Loss: 0.3859323157983668\n",
      "Epoch 50\n",
      " Training Loss: 0.3775608732744499\n",
      " Validation Loss: 0.38460580128080707\n",
      "Epoch 51\n",
      " Training Loss: 0.37606467141045463\n",
      " Validation Loss: 0.3833726184333072\n",
      "Epoch 52\n",
      " Training Loss: 0.37525503789937054\n",
      " Validation Loss: 0.38228003067128796\n",
      "Epoch 53\n",
      " Training Loss: 0.3732965078618791\n",
      " Validation Loss: 0.3811104810413192\n",
      "Epoch 54\n",
      " Training Loss: 0.3720811315156795\n",
      " Validation Loss: 0.3800594587536419\n",
      "Epoch 55\n",
      " Training Loss: 0.370992354883088\n",
      " Validation Loss: 0.37913040466168346\n",
      "Epoch 56\n",
      " Training Loss: 0.3700631355797803\n",
      " Validation Loss: 0.37822572010404926\n",
      "Epoch 57\n",
      " Training Loss: 0.36844297757855166\n",
      " Validation Loss: 0.37737378039780783\n",
      "Epoch 58\n",
      " Training Loss: 0.36766200959682466\n",
      " Validation Loss: 0.3765115781741984\n",
      "Epoch 59\n",
      " Training Loss: 0.36665654601874176\n",
      " Validation Loss: 0.3758088775417384\n",
      "Epoch 60\n",
      " Training Loss: 0.36587844446853357\n",
      " Validation Loss: 0.3750273098840433\n",
      "Epoch 61\n",
      " Training Loss: 0.3652198842278233\n",
      " Validation Loss: 0.37437871317653093\n",
      "Epoch 62\n",
      " Training Loss: 0.36398373709784615\n",
      " Validation Loss: 0.37371327508898344\n",
      "Epoch 63\n",
      " Training Loss: 0.3629061147018715\n",
      " Validation Loss: 0.37313928498941307\n",
      "Epoch 64\n",
      " Training Loss: 0.36202863763879845\n",
      " Validation Loss: 0.3724986262181226\n",
      "Epoch 65\n",
      " Training Loss: 0.36131366932833636\n",
      " Validation Loss: 0.3719500176170293\n",
      "Epoch 66\n",
      " Training Loss: 0.36073517777301645\n",
      " Validation Loss: 0.37136969145606546\n",
      "Epoch 67\n",
      " Training Loss: 0.36012505999317873\n",
      " Validation Loss: 0.37078241258859634\n",
      "Epoch 68\n",
      " Training Loss: 0.35986559413097524\n",
      " Validation Loss: 0.37034115326755185\n",
      "Epoch 69\n",
      " Training Loss: 0.35856127551308387\n",
      " Validation Loss: 0.36994777795146494\n",
      "Epoch 70\n",
      " Training Loss: 0.35803213053279453\n",
      " Validation Loss: 0.36952121249016595\n",
      "Epoch 71\n",
      " Training Loss: 0.35729512373606365\n",
      " Validation Loss: 0.3690510155523525\n",
      "Epoch 72\n",
      " Training Loss: 0.35686640606986153\n",
      " Validation Loss: 0.36866141066831704\n",
      "Epoch 73\n",
      " Training Loss: 0.35630957936799085\n",
      " Validation Loss: 0.3682418325368096\n",
      "Epoch 74\n",
      " Training Loss: 0.3558472154317079\n",
      " Validation Loss: 0.36789611025768165\n",
      "Epoch 75\n",
      " Training Loss: 0.3550028869399318\n",
      " Validation Loss: 0.3675730925272493\n",
      "Epoch 76\n",
      " Training Loss: 0.35409299631913504\n",
      " Validation Loss: 0.36725566930630626\n",
      "Epoch 77\n",
      " Training Loss: 0.35354470610618594\n",
      " Validation Loss: 0.36689723283052444\n",
      "Epoch 78\n",
      " Training Loss: 0.3533614698383543\n",
      " Validation Loss: 0.36669303871252956\n",
      "Epoch 79\n",
      " Training Loss: 0.35270899534225464\n",
      " Validation Loss: 0.36635659328278375\n",
      "Epoch 80\n",
      " Training Loss: 0.3522198896717142\n",
      " Validation Loss: 0.3660529843148063\n",
      "Epoch 81\n",
      " Training Loss: 0.352272187449314\n",
      " Validation Loss: 0.3658072299817029\n",
      "Epoch 82\n",
      " Training Loss: 0.3513073627595548\n",
      " Validation Loss: 0.3655755769680528\n",
      "Epoch 83\n",
      " Training Loss: 0.3512248186049638\n",
      " Validation Loss: 0.3652780616984648\n",
      "Epoch 84\n",
      " Training Loss: 0.35094472291292966\n",
      " Validation Loss: 0.3651452257352717\n",
      "Epoch 85\n",
      " Training Loss: 0.34982230166594186\n",
      " Validation Loss: 0.36485671295839195\n",
      "Epoch 86\n",
      " Training Loss: 0.35014418374609063\n",
      " Validation Loss: 0.3646704795605996\n",
      "Epoch 87\n",
      " Training Loss: 0.3490343493443948\n",
      " Validation Loss: 0.3643553861800362\n",
      "Epoch 88\n",
      " Training Loss: 0.34892014220908835\n",
      " Validation Loss: 0.36417968746493845\n",
      "Epoch 89\n",
      " Training Loss: 0.3488479552445588\n",
      " Validation Loss: 0.36403246048618765\n",
      "Epoch 90\n",
      " Training Loss: 0.34792000949382784\n",
      " Validation Loss: 0.3638942421359174\n",
      "Epoch 91\n",
      " Training Loss: 0.34756758444839053\n",
      " Validation Loss: 0.3637012291480513\n",
      "Epoch 92\n",
      " Training Loss: 0.3468289851038544\n",
      " Validation Loss: 0.3635601677438792\n",
      "Epoch 93\n",
      " Training Loss: 0.346653828907896\n",
      " Validation Loss: 0.36337605381713195\n",
      "Epoch 94\n",
      " Training Loss: 0.346147471776715\n",
      " Validation Loss: 0.36327622611733046\n",
      "Epoch 95\n",
      " Training Loss: 0.3454490702461313\n",
      " Validation Loss: 0.36300083118326526\n",
      "Epoch 96\n",
      " Training Loss: 0.3454207013050715\n",
      " Validation Loss: 0.36287226615583196\n",
      "Epoch 97\n",
      " Training Loss: 0.3450848843764376\n",
      " Validation Loss: 0.36277832134681587\n",
      "Epoch 98\n",
      " Training Loss: 0.3447495060938376\n",
      " Validation Loss: 0.36260543982772264\n",
      "Epoch 99\n",
      " Training Loss: 0.34430083643507076\n",
      " Validation Loss: 0.362492912394159\n"
     ]
    }
   ],
   "source": [
    "NUM_EPOCHS = 100\n",
    "\n",
    "train_losses = []\n",
    "val_losses = []\n",
    "\n",
    "for t in range(NUM_EPOCHS):\n",
    "    train_loss = train_epoch(f, train_dataloader, optimizer=opt, loss_fn=loss_fn, device=device)\n",
    "    val_loss = eval_epoch(f, val_dataloader, loss_fn, device=device)\n",
    "    \n",
    "    print('Epoch {}'.format(t))\n",
    "    print(' Training Loss: {}'.format(train_loss))\n",
    "    print(' Validation Loss: {}'.format(val_loss))\n",
    "    \n",
    "    train_losses.append(train_loss)\n",
    "    val_losses.append(val_loss)"
   ]
  },
  {
   "cell_type": "markdown",
   "metadata": {},
   "source": [
    "We may plot the losses to get an idea of what the learning curve looks like."
   ]
  },
  {
   "cell_type": "code",
   "execution_count": 331,
   "metadata": {},
   "outputs": [
    {
     "data": {
      "image/png": "[encoded data removed]",
      "text/plain": [
       "<Figure size 432x288 with 1 Axes>"
      ]
     },
     "metadata": {
      "needs_background": "light"
     },
     "output_type": "display_data"
    }
   ],
   "source": [
    "from matplotlib import pyplot as plt\n",
    "plt.plot(train_losses)\n",
    "plt.plot(val_losses)\n",
    "plt.legend(['Training', 'Validation'])\n",
    "plt.show()"
   ]
  },
  {
   "cell_type": "markdown",
   "metadata": {},
   "source": [
    "And let's bring this to an end by labeling all of our validation data and printing the results."
   ]
  },
  {
   "cell_type": "code",
   "execution_count": 332,
   "metadata": {},
   "outputs": [
    {
     "name": "stdout",
     "output_type": "stream",
     "text": [
      "[('Tyson', [0]),\n",
      " ('Georgina', [1]),\n",
      " ('Elysia', [1]),\n",
      " ('Kelley', [1]),\n",
      " ('Essa', [1]),\n",
      " ('Tamas', [1]),\n",
      " ('Lori', [1]),\n",
      " ('Leland', [0]),\n",
      " ('Blondie', [1]),\n",
      " ('Ehud', [0]),\n",
      " ('Patty', [1]),\n",
      " ('Aurel', [0]),\n",
      " ('Ikey', [0]),\n",
      " ('Loretta', [1]),\n",
      " ('Merry', [1]),\n",
      " ('Dannie', [1]),\n",
      " ('Olia', [1]),\n",
      " ('Kassandra', [1]),\n",
      " ('Connor', [0]),\n",
      " ('Torry', [0]),\n",
      " ('Sheena', [1]),\n",
      " ('Shanna', [1]),\n",
      " ('Kendra', [1]),\n",
      " ('Raine', [1]),\n",
      " ('Jack', [0]),\n",
      " ('Damara', [1]),\n",
      " ('Darrin', [0]),\n",
      " ('Lou', [1]),\n",
      " ('Luis', [0]),\n",
      " ('Rolando', [0]),\n",
      " ('Barth', [0]),\n",
      " ('Jerry', [0]),\n",
      " ('Karolina', [1]),\n",
      " ('Mendel', [0]),\n",
      " ('Milton', [0]),\n",
      " ('Zachary', [0]),\n",
      " ('Drake', [0]),\n",
      " ('Jeniffer', [1]),\n",
      " ('Caron', [1]),\n",
      " ('Jaquith', [0]),\n",
      " ('Rayna', [1]),\n",
      " ('Petra', [1]),\n",
      " ('Jordan', [0]),\n",
      " ('Sky', [1]),\n",
      " ('Art', [0]),\n",
      " ('Norah', [1]),\n",
      " ('Basil', [1]),\n",
      " ('Elna', [1]),\n",
      " ('Eric', [0]),\n",
      " ('Ingrid', [1]),\n",
      " ('Hasty', [0]),\n",
      " ('Liane', [1]),\n",
      " ('Staci', [1]),\n",
      " ('Myke', [0]),\n",
      " ('Mitra', [1]),\n",
      " ('Lanny', [1]),\n",
      " ('Aggie', [1]),\n",
      " ('Raf', [0]),\n",
      " ('Rita', [1]),\n",
      " ('Geeta', [1]),\n",
      " ('Ellis', [0]),\n",
      " ('Patsy', [0]),\n",
      " ('Duffy', [0]),\n",
      " ('Klee', [0]),\n",
      " ('Selle', [1]),\n",
      " ('Joana', [1]),\n",
      " ('Merl', [0]),\n",
      " ('Deirdre', [1]),\n",
      " ('Shawn', [0]),\n",
      " ('Lauren', [1]),\n",
      " ('Renato', [0]),\n",
      " ('Stanton', [0]),\n",
      " ('Mildred', [0]),\n",
      " ('Giraud', [0]),\n",
      " ('Karsten', [0]),\n",
      " ('Stacy', [1]),\n",
      " ('Jeannine', [1]),\n",
      " ('Tootsie', [1]),\n",
      " ('Arlette', [1]),\n",
      " ('Anselm', [0]),\n",
      " ('Trenton', [0]),\n",
      " ('Minni', [1]),\n",
      " ('Bubba', [0]),\n",
      " ('Myles', [0]),\n",
      " ('Egbert', [0]),\n",
      " ('Chrystal', [1]),\n",
      " ('Tricia', [1]),\n",
      " ('Mead', [1]),\n",
      " ('Sadie', [1]),\n",
      " ('Alex', [0]),\n",
      " ('Yigal', [0]),\n",
      " ('Noah', [0]),\n",
      " ('Una', [1]),\n",
      " ('Reggie', [0]),\n",
      " ('Alister', [0]),\n",
      " ('Rickie', [0]),\n",
      " ('Carita', [1]),\n",
      " ('Gene', [0]),\n",
      " ('Darell', [0]),\n",
      " ('Shanon', [1]),\n",
      " ('Darryl', [0]),\n",
      " ('Shem', [0]),\n",
      " ('Cameo', [0]),\n",
      " ('Darin', [0]),\n",
      " ('Blondy', [1]),\n",
      " ('Matteo', [0]),\n",
      " ('Henri', [0]),\n",
      " ('Haydon', [0]),\n",
      " ('Allie', [1]),\n",
      " ('Belva', [1]),\n",
      " ('Jan', [0]),\n",
      " ('Gifford', [0]),\n",
      " ('Eddy', [0]),\n",
      " ('Valentin', [0]),\n",
      " ('Melony', [1]),\n",
      " ('Camille', [1]),\n",
      " ('Marve', [0]),\n",
      " ('Brodie', [0]),\n",
      " ('Francis', [0]),\n",
      " ('Becca', [1]),\n",
      " ('Chickie', [1]),\n",
      " ('Derby', [0]),\n",
      " ('Brandie', [1]),\n",
      " ('Marty', [0]),\n",
      " ('Gusta', [1]),\n",
      " ('Frederik', [0]),\n",
      " ('Michele', [1]),\n",
      " ('Merci', [1]),\n",
      " ('Brigid', [1]),\n",
      " ('Tracey', [1]),\n",
      " ('Kevyn', [1]),\n",
      " ('Mersey', [0]),\n",
      " ('Christan', [0]),\n",
      " ('Gael', [1]),\n",
      " ('Karry', [1]),\n",
      " ('Vickie', [1]),\n",
      " ('Letta', [1]),\n",
      " ('Gracia', [1]),\n",
      " ('Chastity', [1]),\n",
      " ('Lindsey', [1]),\n",
      " ('Corella', [0]),\n",
      " ('Adina', [1]),\n",
      " ('Jonah', [0]),\n",
      " ('Karissa', [1]),\n",
      " ('Marianne', [1]),\n",
      " ('Jean-Lou', [1]),\n",
      " ('Carrol', [0]),\n",
      " ('Rhody', [1]),\n",
      " ('Pet', [0]),\n",
      " ('Jeremiah', [0]),\n",
      " ('Tish', [1]),\n",
      " ('Jaimie', [1]),\n",
      " ('Marissa', [1]),\n",
      " ('Adolfo', [0]),\n",
      " ('Georgie', [1]),\n",
      " ('Florance', [1]),\n",
      " ('Rosanna', [1]),\n",
      " ('Paulina', [1]),\n",
      " ('Shep', [0]),\n",
      " ('Chandler', [0]),\n",
      " ('Odessa', [1]),\n",
      " ('Orion', [0]),\n",
      " ('Ragnar', [0]),\n",
      " ('Lamar', [0]),\n",
      " ('Doe', [1]),\n",
      " ('Freddie', [0]),\n",
      " ('Dylan', [0]),\n",
      " ('Collins', [0]),\n",
      " ('Pippa', [1]),\n",
      " ('Boris', [0]),\n",
      " ('Aida', [1]),\n",
      " ('Moe', [0]),\n",
      " ('Hillary', [1]),\n",
      " ('Judi', [1]),\n",
      " ('Tan', [1]),\n",
      " ('Marika', [1]),\n",
      " ('Galen', [0]),\n",
      " ('Clo', [1]),\n",
      " ('Cissy', [1]),\n",
      " ('Evan', [0]),\n",
      " ('Jef', [1]),\n",
      " ('Forest', [1]),\n",
      " ('Tate', [0]),\n",
      " ('Viv', [1]),\n",
      " ('Flora', [1]),\n",
      " ('Ozzie', [0]),\n",
      " ('Trevor', [0]),\n",
      " ('Kris', [0]),\n",
      " ('Byram', [0]),\n",
      " ('Lira', [1]),\n",
      " ('Blithe', [1]),\n",
      " ('Alfonso', [0]),\n",
      " ('Kimball', [0]),\n",
      " ('Atlanta', [0]),\n",
      " ('Caryl', [1]),\n",
      " ('Galina', [1]),\n",
      " ('Faustina', [1]),\n",
      " ('Steffi', [1]),\n",
      " ('Carlton', [0]),\n",
      " ('Quintus', [0]),\n",
      " ('Lorrie', [1]),\n",
      " ('Les', [1]),\n",
      " ('Issi', [1]),\n",
      " ('Bobby', [0]),\n",
      " ('Ada', [1]),\n",
      " ('Oscar', [0]),\n",
      " ('Chase', [0]),\n",
      " ('Schroeder', [0]),\n",
      " ('Simeon', [0]),\n",
      " ('Temp', [0]),\n",
      " ('Tanya', [1]),\n",
      " ('Alexis', [1]),\n",
      " ('Jana', [1]),\n",
      " ('Lorie', [1]),\n",
      " ('Heide', [1]),\n",
      " ('Henrie', [0]),\n",
      " ('Gipsy', [1]),\n",
      " ('Bernie', [0]),\n",
      " ('Andre', [0]),\n",
      " ('Kayla', [1]),\n",
      " ('Elsinore', [0]),\n",
      " ('Sargent', [0]),\n",
      " ('Welch', [0]),\n",
      " ('Babette', [1]),\n",
      " ('Benji', [0]),\n",
      " ('Rhonda', [1]),\n",
      " ('Gabe', [0]),\n",
      " ('Hamel', [0]),\n",
      " ('Lauren', [1]),\n",
      " ('Alessandro', [0]),\n",
      " ('Wood', [0]),\n",
      " ('Elmer', [0]),\n",
      " ('Dania', [1]),\n",
      " ('Terrill', [0]),\n",
      " ('Margret', [1]),\n",
      " ('Floris', [1]),\n",
      " ('Freda', [1]),\n",
      " ('Winton', [0]),\n",
      " ('Gerry', [0]),\n",
      " ('Vinny', [0]),\n",
      " ('Kraig', [0]),\n",
      " ('Sergei', [0]),\n",
      " ('Ruben', [0]),\n",
      " ('Matthieu', [0]),\n",
      " ('Bo', [0]),\n",
      " ('Hanni', [1]),\n",
      " ('Shanda', [1]),\n",
      " ('Fernandina', [1]),\n",
      " ('Windham', [0]),\n",
      " ('Claudius', [0]),\n",
      " ('Coraline', [1]),\n",
      " ('Eduardo', [0]),\n",
      " ('Karim', [0]),\n",
      " ('Dalia', [1]),\n",
      " ('Vanna', [1]),\n",
      " ('Linnet', [1]),\n",
      " ('Beauregard', [0]),\n",
      " ('Florian', [0]),\n",
      " ('Jyoti', [1]),\n",
      " ('Harrison', [0]),\n",
      " ('Gerry', [0]),\n",
      " ('Cyrille', [0]),\n",
      " ('Bayard', [0]),\n",
      " ('Albina', [1]),\n",
      " ('Everett', [0]),\n",
      " ('Sonny', [0]),\n",
      " ('Palmer', [0]),\n",
      " ('Oberon', [0]),\n",
      " ('Braden', [0]),\n",
      " ('Ag', [0]),\n",
      " ('Tomlin', [0]),\n",
      " ('Percy', [0]),\n",
      " ('Salim', [0]),\n",
      " ('Isabelle', [1]),\n",
      " ('Candida', [1]),\n",
      " ('Hilton', [1]),\n",
      " ('Aryn', [1]),\n",
      " ('Jane', [1]),\n",
      " ('Emanuel', [0]),\n",
      " ('Sheila', [1]),\n",
      " ('Steve', [0]),\n",
      " ('Ozzy', [0]),\n",
      " ('Wallie', [1]),\n",
      " ('Carie', [1]),\n",
      " ('Walden', [0]),\n",
      " ('Forster', [0]),\n",
      " ('Jo-Anne', [1]),\n",
      " ('Vergil', [0]),\n",
      " ('Shayne', [1]),\n",
      " ('Vasili', [0]),\n",
      " ('Rudyard', [0]),\n",
      " ('Amanda', [1]),\n",
      " ('Kit', [0]),\n",
      " ('Bernhard', [0]),\n",
      " ('Alyssa', [1]),\n",
      " ('Garcia', [0]),\n",
      " ('Joannes', [1]),\n",
      " ('Domenic', [0]),\n",
      " ('Emmi', [1]),\n",
      " ('Leann', [1]),\n",
      " ('Abram', [0]),\n",
      " ('Bessy', [1]),\n",
      " ('Dorothea', [1]),\n",
      " ('Amory', [0]),\n",
      " ('Melitta', [1]),\n",
      " ('Melody', [1]),\n",
      " ('Maddalena', [1]),\n",
      " ('Albert', [0]),\n",
      " ('Mel', [1]),\n",
      " ('Maribel', [1]),\n",
      " ('Ericka', [1]),\n",
      " ('Deidre', [1]),\n",
      " ('Layne', [1]),\n",
      " ('Gonzalo', [0]),\n",
      " ('Carson', [0]),\n",
      " ('Walther', [0]),\n",
      " ('Ernest', [0]),\n",
      " ('Katerina', [1]),\n",
      " ('Charis', [1]),\n",
      " ('Hanford', [0]),\n",
      " ('Darren', [0]),\n",
      " ('Langston', [0]),\n",
      " ('Vale', [1]),\n",
      " ('Mercedes', [1]),\n",
      " ('Pate', [0]),\n",
      " ('Fabio', [0]),\n",
      " ('Kimmie', [1]),\n",
      " ('Russell', [0]),\n",
      " ('Sapphire', [1]),\n",
      " ('Norma', [1]),\n",
      " ('Randy', [0]),\n",
      " ('Wilden', [1]),\n",
      " ('Austin', [0]),\n",
      " ('Orville', [0]),\n",
      " ('Selig', [0]),\n",
      " ('Candice', [1]),\n",
      " ('Milt', [0]),\n",
      " ('Danni', [1]),\n",
      " ('Lissy', [1]),\n",
      " ('Marietta', [0]),\n",
      " ('Blake', [0]),\n",
      " ('Paulette', [1]),\n",
      " ('Hamil', [1]),\n",
      " ('Marsha', [1]),\n",
      " ('Marcelle', [1]),\n",
      " ('Lemar', [1]),\n",
      " ('Jay', [0]),\n",
      " ('Norman', [0]),\n",
      " ('Meier', [0]),\n",
      " ('Dahlia', [1]),\n",
      " ('Ez', [0]),\n",
      " ('Averill', [0]),\n",
      " ('Ros', [1]),\n",
      " ('Marjorie', [1]),\n",
      " ('Timi', [1]),\n",
      " ('Matty', [0]),\n",
      " ('Basia', [1]),\n",
      " ('Lefty', [0]),\n",
      " ('Armando', [0]),\n",
      " ('Karyn', [1]),\n",
      " ('Sanderson', [0]),\n",
      " ('Erin', [1]),\n",
      " ('Harvie', [0]),\n",
      " ('Eugen', [0]),\n",
      " ('Harmony', [1]),\n",
      " ('Nestor', [0]),\n",
      " ('Candie', [1]),\n",
      " ('Fey', [1]),\n",
      " ('Roseanna', [1]),\n",
      " ('Alessandra', [1]),\n",
      " ('Leon', [0]),\n",
      " ('Lindsay', [1]),\n",
      " ('Anthea', [1]),\n",
      " ('Jennifer', [1]),\n",
      " ('Fremont', [0]),\n",
      " ('Lita', [1]),\n",
      " ('Niels', [0]),\n",
      " ('Vinny', [0]),\n",
      " ('Winnie', [1]),\n",
      " ('Aubree', [1]),\n",
      " ('Kirsten', [1]),\n",
      " ('Amber', [1]),\n",
      " ('Fedora', [0]),\n",
      " ('Euclid', [0]),\n",
      " ('Teressa', [1]),\n",
      " ('Issy', [1]),\n",
      " ('Micky', [1]),\n",
      " ('Carolin', [1]),\n",
      " ('Zorro', [0]),\n",
      " ('Brenna', [1]),\n",
      " ('Kath', [1]),\n",
      " ('Twyla', [1]),\n",
      " ('Ari', [0]),\n",
      " ('Parsifal', [0]),\n",
      " ('Hedda', [1]),\n",
      " ('Isa', [1]),\n",
      " ('Aretha', [1]),\n",
      " ('Katina', [1]),\n",
      " ('Cassy', [1]),\n",
      " ('Wilfred', [0]),\n",
      " ('Goldie', [1]),\n",
      " ('Phylis', [1]),\n",
      " ('Ginnifer', [1]),\n",
      " ('Marlow', [0]),\n",
      " ('Tudor', [0]),\n",
      " ('Inge', [1]),\n",
      " ('Murdock', [0]),\n",
      " ('Franky', [0]),\n",
      " ('Axel', [0]),\n",
      " ('Sheela', [1]),\n",
      " ('Prince', [0]),\n",
      " ('Wyndham', [1]),\n",
      " ('Andie', [1]),\n",
      " ('Antoine', [0]),\n",
      " ('Suzi', [1]),\n",
      " ('Dinah', [1]),\n",
      " ('Erik', [0]),\n",
      " ('Vicky', [1]),\n",
      " ('Imelda', [1]),\n",
      " ('Bobbie', [1]),\n",
      " ('Torr', [0]),\n",
      " ('Davie', [0]),\n",
      " ('Skylar', [1]),\n",
      " ('Anna-Diane', [1]),\n",
      " ('Regen', [0]),\n",
      " ('Brian', [0]),\n",
      " ('Murphy', [0]),\n",
      " ('Stearn', [0]),\n",
      " ('Reuben', [0]),\n",
      " ('Dallas', [0]),\n",
      " ('Torrance', [0]),\n",
      " ('Guillermo', [0]),\n",
      " ('Marian', [1]),\n",
      " ('Berkley', [0]),\n",
      " ('Kerry', [0]),\n",
      " ('Maren', [1]),\n",
      " ('Donovan', [0]),\n",
      " ('Liana', [1]),\n",
      " ('Ladonna', [1]),\n",
      " ('Pennie', [0]),\n",
      " ('Salvatore', [0]),\n",
      " ('Chauncey', [0]),\n",
      " ('Darby', [0]),\n",
      " ('Abelard', [0]),\n",
      " ('Abbi', [1]),\n",
      " ('Hy', [0]),\n",
      " ('Janna', [1]),\n",
      " ('Ricki', [1]),\n",
      " ('Dianne', [1]),\n",
      " ('Pembroke', [1]),\n",
      " ('Angelo', [0]),\n",
      " ('Caroline', [1]),\n",
      " ('Hamish', [0]),\n",
      " ('Rog', [0]),\n",
      " ('Lissie', [1]),\n",
      " ('Merle', [1]),\n",
      " ('Susanna', [1]),\n",
      " ('Holley', [0]),\n",
      " ('Aline', [1]),\n",
      " ('Madalyn', [1]),\n",
      " ('Leland', [0]),\n",
      " ('Mahalia', [1]),\n",
      " ('Celesta', [1]),\n",
      " ('Katusha', [1]),\n",
      " ('Nils', [0]),\n",
      " ('Violetta', [1]),\n",
      " ('Bob', [0]),\n",
      " ('Merv', [0]),\n",
      " ('Dian', [1]),\n",
      " ('Kylie', [1]),\n",
      " ('Pascale', [1]),\n",
      " ('Albatros', [0]),\n",
      " ('Goldi', [1]),\n",
      " ('Wilburn', [0]),\n",
      " ('Valdemar', [1]),\n",
      " ('Megan', [1]),\n",
      " ('Otis', [0]),\n",
      " ('Forrest', [0]),\n",
      " ('Hall', [0]),\n",
      " ('Stew', [0]),\n",
      " ('Elvira', [1]),\n",
      " ('Kyle', [0]),\n",
      " ('Gilbert', [0]),\n",
      " ('Tally', [0]),\n",
      " ('Margo', [1]),\n",
      " ('Yvette', [1]),\n",
      " ('Fannie', [1]),\n",
      " ('Ty', [1]),\n",
      " ('Giancarlo', [0]),\n",
      " ('Maxim', [1]),\n",
      " ('Wat', [0]),\n",
      " ('Cosette', [1]),\n",
      " ('Eustace', [0]),\n",
      " ('Willi', [0]),\n",
      " ('Felecia', [1]),\n",
      " ('Tansy', [1]),\n",
      " ('Anny', [1]),\n",
      " ('Mirella', [1]),\n",
      " ('Anet', [1]),\n",
      " ('Roy', [0]),\n",
      " ('Marita', [1]),\n",
      " ('Rikki', [1]),\n",
      " ('Ricca', [1]),\n",
      " ('Talbert', [0]),\n",
      " ('Karine', [1]),\n",
      " ('Jeffery', [0]),\n",
      " ('Chaim', [0]),\n",
      " ('Geri', [1]),\n",
      " ('Powell', [0]),\n",
      " ('Noel', [0]),\n",
      " ('Danika', [1]),\n",
      " ('Clovis', [0]),\n",
      " ('Corina', [1]),\n",
      " ('Brenn', [0]),\n",
      " ('Vanessa', [1]),\n",
      " ('Pippy', [1]),\n",
      " ('Florence', [1]),\n",
      " ('Alden', [0]),\n",
      " ('Meg', [1]),\n",
      " ('Jeromy', [0]),\n",
      " ('Marlo', [1]),\n",
      " ('Pammy', [1]),\n",
      " ('Hammad', [0]),\n",
      " ('Andros', [0]),\n",
      " ('Bride', [1]),\n",
      " ('Mervin', [0]),\n",
      " ('Nessie', [1]),\n",
      " ('Karena', [1]),\n",
      " ('Kip', [0]),\n",
      " ('Lanny', [1]),\n",
      " ('Dallas', [0]),\n",
      " ('Marcus', [0]),\n",
      " ('Ethyl', [1]),\n",
      " ('Norton', [0]),\n",
      " ('Tammy', [1]),\n",
      " ('Prescott', [0]),\n",
      " ('Giffy', [1]),\n",
      " ('Bertie', [0]),\n",
      " ('Fritz', [0]),\n",
      " ('Laird', [0]),\n",
      " ('Kass', [0]),\n",
      " ('Christal', [1]),\n",
      " ('Gardiner', [0]),\n",
      " ('Christina', [1]),\n",
      " ('Jerri', [1]),\n",
      " ('Marta', [1]),\n",
      " ('Moishe', [0]),\n",
      " ('Corry', [1]),\n",
      " ('Gaven', [0]),\n",
      " ('Susannah', [1]),\n",
      " ('Engelbert', [0]),\n",
      " ('Lynnette', [1]),\n",
      " ('Evelyn', [1]),\n",
      " ('Barbara-Anne', [1]),\n",
      " ('Julee', [1]),\n",
      " ('Josh', [0]),\n",
      " ('Rogers', [0]),\n",
      " ('Amity', [0]),\n",
      " ('Bary', [0]),\n",
      " ('Raymond', [0]),\n",
      " ('Katti', [1]),\n",
      " ('Daisy', [1]),\n",
      " ('Mira', [1]),\n",
      " ('Amalie', [1]),\n",
      " ('Amadeus', [0]),\n",
      " ('Wilton', [0]),\n",
      " ('Trey', [0]),\n",
      " ('Jayne', [1]),\n",
      " ('Flossie', [1]),\n",
      " ('Flore', [1]),\n",
      " ('Rick', [0]),\n",
      " ('Dannie', [1]),\n",
      " ('Lazlo', [0]),\n",
      " ('Guy', [0]),\n",
      " ('Hope', [1]),\n",
      " ('Grier', [1]),\n",
      " ('Joelle', [1]),\n",
      " ('Whitaker', [0]),\n",
      " ('Fayette', [0]),\n",
      " ('Durand', [0]),\n",
      " ('Erich', [0]),\n",
      " ('Ryan', [0]),\n",
      " ('Barnabas', [0]),\n",
      " ('Husein', [1]),\n",
      " ('Starla', [1]),\n",
      " ('Lela', [1]),\n",
      " ('Ishmael', [0]),\n",
      " ('Parke', [0]),\n",
      " ('Standford', [0]),\n",
      " ('Maison', [1]),\n",
      " ('Gideon', [0]),\n",
      " ('Francisco', [0]),\n",
      " ('Nathan', [0]),\n",
      " ('Clifford', [0]),\n",
      " ('Raleigh', [0]),\n",
      " ('Er', [0]),\n",
      " ('Arlene', [1]),\n",
      " ('Mathias', [0]),\n",
      " ('Vere', [0]),\n",
      " ('Gonzales', [0]),\n",
      " ('Gregor', [0]),\n",
      " ('Gilda', [1]),\n",
      " ('Kinna', [1]),\n",
      " ('Bailey', [0]),\n",
      " ('Elora', [1]),\n",
      " ('Caresse', [1]),\n",
      " ('Kent', [0]),\n",
      " ('Salman', [0]),\n",
      " ('Sanford', [0]),\n",
      " ('Cristi', [1]),\n",
      " ('Andee', [1]),\n",
      " ('Trudy', [1]),\n",
      " ('Osborne', [0]),\n",
      " ('Vernor', [0]),\n",
      " ('Mandy', [1]),\n",
      " ('Ronna', [0]),\n",
      " ('Kendall', [0]),\n",
      " ('Carroll', [0]),\n",
      " ('Margery', [0]),\n",
      " ('Woody', [0]),\n",
      " ('Lorain', [0]),\n",
      " ('Rene', [1]),\n",
      " ('Maddy', [1]),\n",
      " ('Kam', [1]),\n",
      " ('Donald', [0]),\n",
      " ('Traci', [1]),\n",
      " ('Hilliard', [0]),\n",
      " ('Hart', [0]),\n",
      " ('Leroy', [0]),\n",
      " ('Piet', [0]),\n",
      " ('Devi', [1]),\n",
      " ('Willem', [0]),\n",
      " ('Ilse', [1]),\n",
      " ('Darrick', [0]),\n",
      " ('Bridget', [1]),\n",
      " ('Rafa', [0]),\n",
      " ('Rockwell', [0]),\n",
      " ('Pen', [0]),\n",
      " ('Demetri', [0]),\n",
      " ('Leone', [1]),\n",
      " ('Pennie', [0]),\n",
      " ('Clarke', [0]),\n",
      " ('Cherie', [1]),\n",
      " ('Kristy', [1]),\n",
      " ('Red', [1]),\n",
      " ('Nathaniel', [0]),\n",
      " ('Ileana', [1]),\n",
      " ('Maddy', [1]),\n",
      " ('Francine', [1]),\n",
      " ('Marlyn', [1]),\n",
      " ('Dea', [1]),\n",
      " ('Tommy', [0]),\n",
      " ('Jo', [1]),\n",
      " ('Edgardo', [0]),\n",
      " ('Francisca', [1]),\n",
      " ('Teresa', [1]),\n",
      " ('Eula', [1]),\n",
      " ('Weber', [0]),\n",
      " ('Weston', [0]),\n",
      " ('Craig', [0]),\n",
      " ('Justis', [1]),\n",
      " ('Ferdy', [0]),\n",
      " ('Edwin', [0]),\n",
      " ('Daryl', [0]),\n",
      " ('Kirk', [0]),\n",
      " ('Melodie', [1]),\n",
      " ('Alexander', [0]),\n",
      " ('Ronny', [0]),\n",
      " ('Siouxie', [1]),\n",
      " ('Fina', [1]),\n",
      " ('Gussy', [1]),\n",
      " ('Daffy', [1]),\n",
      " ('Belle', [1]),\n",
      " ('Mab', [1]),\n",
      " ('Aura', [1]),\n",
      " ('Alyson', [1]),\n",
      " ('Alexi', [0]),\n",
      " ('Heidi', [1]),\n",
      " ('Winslow', [0]),\n",
      " ('Sandro', [0]),\n",
      " ('Libbie', [1]),\n",
      " ('Jami', [1]),\n",
      " ('Kenyon', [0]),\n",
      " ('Maggi', [1]),\n",
      " ('Judah', [0]),\n",
      " ('Didi', [1]),\n",
      " ('Cristine', [1]),\n",
      " ('Di', [1]),\n",
      " ('Gabbie', [1]),\n",
      " ('Ronny', [0]),\n",
      " ('Joya', [1]),\n",
      " ('Beaufort', [0]),\n",
      " ('Christophe', [0]),\n",
      " ('Rosalia', [1]),\n",
      " ('Piggy', [1]),\n",
      " ('Uri', [0]),\n",
      " ('Emilie', [1]),\n",
      " ('Gussie', [1]),\n",
      " ('Celia', [1]),\n",
      " ('Torre', [0]),\n",
      " ('Denise', [1]),\n",
      " ('Alasdair', [0]),\n",
      " ('Sandra', [1]),\n",
      " ('Viola', [1]),\n",
      " ('Asia', [1]),\n",
      " ('Marys', [0]),\n",
      " ('Mohammad', [0]),\n",
      " ('Rey', [0]),\n",
      " ('Arne', [0]),\n",
      " ('Mella', [1]),\n",
      " ('Lotte', [1]),\n",
      " ('Norris', [0]),\n",
      " ('Rosamund', [1]),\n",
      " ('Kris', [0]),\n",
      " ('Camile', [1]),\n",
      " ('Michael', [0]),\n",
      " ('Jeannette', [1]),\n",
      " ('Zack', [0]),\n",
      " ('Dawson', [0]),\n",
      " ('Eugenie', [1]),\n",
      " ('Rickard', [0]),\n",
      " ('Nick', [0]),\n",
      " ('Morna', [1]),\n",
      " ('Remus', [0]),\n",
      " ('Filmore', [0]),\n",
      " ('Elene', [1]),\n",
      " ('Willard', [0]),\n",
      " ('Alys', [1]),\n",
      " ('Zaria', [1]),\n",
      " ('Casi', [1]),\n",
      " ('Wallis', [0]),\n",
      " ('Liam', [0]),\n",
      " ('Mike', [0]),\n",
      " ('Cristy', [1]),\n",
      " ('Harry', [0]),\n",
      " ('Dustin', [0]),\n",
      " ('Laetitia', [1]),\n",
      " ('Alicia', [1]),\n",
      " ('Mattias', [0]),\n",
      " ('Dwight', [0]),\n",
      " ('Silvana', [1]),\n",
      " ('Lacy', [1]),\n",
      " ('Kaja', [1]),\n",
      " ('Tammy', [1]),\n",
      " ('Zane', [0]),\n",
      " ('Maude', [1]),\n",
      " ('Wilber', [0]),\n",
      " ('Dollie', [1]),\n",
      " ('Cleveland', [0]),\n",
      " ('Coleen', [1]),\n",
      " ('Burke', [0]),\n",
      " ('Lizzie', [1]),\n",
      " ('Dillon', [0]),\n",
      " ('Genna', [1]),\n",
      " ('Zak', [0]),\n",
      " ('Rodge', [1]),\n",
      " ('Huntington', [0]),\n",
      " ('Pietro', [0]),\n",
      " ('Orin', [1]),\n",
      " ('Dix', [0]),\n",
      " ('Winfred', [0]),\n",
      " ('Heath', [0]),\n",
      " ('Rory', [0]),\n",
      " ('Sloane', [0]),\n",
      " ('Ebenezer', [0]),\n",
      " ('Estella', [1]),\n",
      " ('Vera', [1]),\n",
      " ('Rayner', [0]),\n",
      " ('Dona', [1]),\n",
      " ('Piper', [0]),\n",
      " ('Jamie', [1]),\n",
      " ('Lukas', [0]),\n",
      " ('Sheri', [1]),\n",
      " ('Meryl', [1]),\n",
      " ('Mickey', [0]),\n",
      " ('Sibley', [0]),\n",
      " ('Ramona', [1]),\n",
      " ('Kaycee', [1]),\n",
      " ('Filippa', [1]),\n",
      " ('Em', [0]),\n",
      " ('Liz', [1]),\n",
      " ('Sally', [1]),\n",
      " ('Vern', [0]),\n",
      " ('Ulrika', [1]),\n",
      " ('Elle', [1]),\n",
      " ('Annabell', [1]),\n",
      " ('Dietrich', [0]),\n",
      " ('Doria', [1]),\n",
      " ('Kari', [1]),\n",
      " ('Errol', [0]),\n",
      " ('Tracee', [1]),\n",
      " ('Waverley', [0]),\n",
      " ('Melba', [1]),\n",
      " ('Jemima', [1]),\n",
      " ('Riki', [1]),\n",
      " ('Nollie', [0]),\n",
      " ('Sheba', [1]),\n",
      " ('Tedd', [0]),\n",
      " ('Sal', [0]),\n",
      " ('Krissy', [1]),\n",
      " ('Adolphe', [0]),\n",
      " ('Joshua', [0]),\n",
      " ('Joy', [1]),\n",
      " ('Obie', [0]),\n",
      " ('Flo', [1]),\n",
      " ('Winne', [1]),\n",
      " ('Marianna', [1]),\n",
      " ('Urbano', [0]),\n",
      " ('Rollins', [0]),\n",
      " ('Hakim', [0]),\n",
      " ('Laura', [1]),\n",
      " ('Courtney', [1]),\n",
      " ('Ahmad', [0]),\n",
      " ('Vonnie', [1]),\n",
      " ('Alli', [1]),\n",
      " ('Sandy', [1]),\n",
      " ('Goose', [0]),\n",
      " ('Hatty', [1]),\n",
      " ('Noland', [0]),\n",
      " ('Daren', [1]),\n",
      " ('Teri', [1]),\n",
      " ('Osbourne', [1]),\n",
      " ('Lind', [1]),\n",
      " ('Dyan', [1]),\n",
      " ('Aphrodite', [1]),\n",
      " ('Waleed', [0]),\n",
      " ('Travers', [0]),\n",
      " ('Calvin', [0]),\n",
      " ('Giana', [1]),\n",
      " ('Ignacio', [0]),\n",
      " ('Hilde', [1]),\n",
      " ('Kathryn', [1]),\n",
      " ('Pattie', [1]),\n",
      " ('Susy', [1]),\n",
      " ('Ware', [0]),\n",
      " ('Dunstan', [0]),\n",
      " ('Milli', [1]),\n",
      " ('Nichole', [1]),\n",
      " ('Margi', [1]),\n",
      " ('Flower', [1]),\n",
      " ('Christopher', [0]),\n",
      " ('Jock', [0]),\n",
      " ('Tyrus', [0]),\n",
      " ('Andria', [1]),\n",
      " ('Geri', [1]),\n",
      " ('Leora', [1]),\n",
      " ('Roselyn', [1]),\n",
      " ('Orton', [0]),\n",
      " ('Melli', [1]),\n",
      " ('Biff', [0]),\n",
      " ('Linnea', [1]),\n",
      " ('Petunia', [1]),\n",
      " ('Eunice', [1]),\n",
      " ('Jessi', [1]),\n",
      " ('Ashton', [0]),\n",
      " ('Elyn', [1]),\n",
      " ('Bambie', [1]),\n",
      " ('Berri', [1]),\n",
      " ('Garp', [0]),\n",
      " ('Micheline', [1]),\n",
      " ('Kenneth', [0]),\n",
      " ('Andri', [1]),\n",
      " ('Robbie', [0]),\n",
      " ('Pauli', [1]),\n",
      " ('Sharon', [1]),\n",
      " ('Sophie', [1]),\n",
      " ('Hanan', [1]),\n",
      " ('Winny', [1]),\n",
      " ('Chan', [1]),\n",
      " ('Evita', [1]),\n",
      " ('Chad', [0]),\n",
      " ('Monica', [1]),\n",
      " ('Dunc', [0]),\n",
      " ('Merrick', [0]),\n",
      " ('Harley', [0]),\n",
      " ('Kora', [1]),\n",
      " ('Udell', [0]),\n",
      " ('Drew', [0]),\n",
      " ('Leif', [0]),\n",
      " ('Bobbi', [1]),\n",
      " ('Olympia', [0]),\n",
      " ('Sissy', [1]),\n",
      " ('Sterne', [0]),\n",
      " ('Hendrik', [0]),\n",
      " ('Cass', [1]),\n",
      " ('Tamar', [1]),\n",
      " ('Wilhelm', [0]),\n",
      " ('Venkat', [0]),\n",
      " ('Enid', [1]),\n",
      " ('Silvie', [1]),\n",
      " ('Lillian', [1]),\n",
      " ('Etienne', [0]),\n",
      " ('Mireille', [1]),\n",
      " ('Yolanda', [1]),\n",
      " ('Phil', [0]),\n",
      " ('Hillel', [0]),\n",
      " ('Bari', [1]),\n",
      " ('Sunny', [1]),\n",
      " ('Minnie', [1]),\n",
      " ('Shellie', [1]),\n",
      " ('Fran', [1]),\n",
      " ('Lavinia', [1]),\n",
      " ('Charo', [1]),\n",
      " ('Wynn', [0]),\n",
      " ('Rhea', [1]),\n",
      " ('Samson', [0]),\n",
      " ('Blythe', [1]),\n",
      " ('Mellissa', [1]),\n",
      " ('Ruby', [1]),\n",
      " ('Carlos', [0]),\n",
      " ('Brooks', [0]),\n",
      " ('Edna', [1]),\n",
      " ('Janina', [1]),\n",
      " ('Davon', [1]),\n",
      " ('Editha', [1]),\n",
      " ('Annette', [1]),\n",
      " ('Judson', [0]),\n",
      " ('Joli', [1]),\n",
      " ('Milo', [0]),\n",
      " ('Carola', [1]),\n",
      " ('Vivien', [1]),\n",
      " ('Arvind', [0]),\n",
      " ('Dexter', [0]),\n",
      " ('Edward', [0]),\n",
      " ('Elliott', [0]),\n",
      " ('Dan', [0]),\n",
      " ('Paule', [1]),\n",
      " ('Ashleigh', [1]),\n",
      " ('Cathi', [1]),\n",
      " ('Daisey', [1]),\n",
      " ('Nichols', [0]),\n",
      " ('Bryon', [0]),\n",
      " ('Sergeant', [0]),\n",
      " ('Jule', [1]),\n",
      " ('Harris', [0]),\n",
      " ('Zara', [1]),\n",
      " ('Augusta', [1]),\n",
      " ('Willie', [0]),\n",
      " ('Lindy', [1]),\n",
      " ('Giff', [1]),\n",
      " ('Mayor', [0]),\n",
      " ('Delbert', [0]),\n",
      " ('Timmie', [1]),\n",
      " ('Carma', [1]),\n",
      " ('Pip', [0]),\n",
      " ('Nadya', [1]),\n",
      " ('Cleo', [1]),\n",
      " ('Dolly', [1]),\n",
      " ('Shay', [1]),\n",
      " ('Mace', [0]),\n",
      " ('Menard', [0]),\n",
      " ('Gerrard', [0]),\n",
      " ('Farley', [0]),\n",
      " ('Franklin', [0]),\n",
      " ('Jonas', [0]),\n",
      " ('Moll', [1]),\n",
      " ('Jill', [1]),\n",
      " ('Somerset', [0]),\n",
      " ('Lucy', [1]),\n",
      " ('Maxi', [1]),\n",
      " ('Lucie', [1]),\n",
      " ('Marko', [0]),\n",
      " ('Elise', [1]),\n",
      " ('Vinnie', [0]),\n",
      " ('Madeleine', [1]),\n",
      " ('Dita', [1]),\n",
      " ('Meta', [0]),\n",
      " ('Alia', [1]),\n",
      " ('Neel', [0]),\n",
      " ('Zach', [0]),\n",
      " ('Tracey', [1]),\n",
      " ('Federica', [1]),\n",
      " ('Ugo', [0]),\n",
      " ('Kristine', [1]),\n",
      " ('Sterling', [1]),\n",
      " ('Karen', [1]),\n",
      " ('Arlie', [1]),\n",
      " ('Rana', [1]),\n",
      " ('Allyn', [0]),\n",
      " ('Meredith', [1]),\n",
      " ('Martyn', [0]),\n",
      " ('Anna', [1]),\n",
      " ('Juanita', [1]),\n",
      " ('Charmane', [1]),\n",
      " ('Janie', [1]),\n",
      " ('Mick', [0]),\n",
      " ('Nahum', [0]),\n",
      " ('Mustafa', [0]),\n",
      " ('Stefan', [0]),\n",
      " ('Alanna', [1]),\n",
      " ('Drea', [1]),\n",
      " ('Jared', [0]),\n",
      " ('Marguerite', [1]),\n",
      " ('Tommi', [1]),\n",
      " ('Willie', [0]),\n",
      " ('Florencia', [1]),\n",
      " ('Zarah', [1]),\n",
      " ('Stern', [0]),\n",
      " ('Hersh', [0]),\n",
      " ('Nate', [0]),\n",
      " ('Merle', [1]),\n",
      " ('Ace', [0]),\n",
      " ('Josephine', [1]),\n",
      " ('Ansley', [1]),\n",
      " ('Elfie', [1]),\n",
      " ('Glynn', [0]),\n",
      " ('Jewel', [1]),\n",
      " ('Joseph', [0]),\n",
      " ('Von', [0]),\n",
      " ('Althea', [1]),\n",
      " ('Allen', [0]),\n",
      " ('Sascha', [0]),\n",
      " ('Kingston', [0]),\n",
      " ('Mart', [0]),\n",
      " ('Leda', [1]),\n",
      " ('Marina', [1]),\n",
      " ('Brady', [0]),\n",
      " ('Kalle', [0]),\n",
      " ('Skell', [1]),\n",
      " ('Gerard', [0]),\n",
      " ('Adara', [1]),\n",
      " ('Win', [0]),\n",
      " ('Benita', [1]),\n",
      " ('Hagan', [0]),\n",
      " ('Fayre', [1]),\n",
      " ('Tony', [0]),\n",
      " ('Sergio', [0]),\n",
      " ('Gaston', [0]),\n",
      " ('Keefe', [0]),\n",
      " ('Terri', [1]),\n",
      " ('Blaine', [0]),\n",
      " ('Bella', [1]),\n",
      " ('Erasmus', [0]),\n",
      " ('Lawton', [0]),\n",
      " ('Micky', [1]),\n",
      " ('Markus', [0]),\n",
      " ('Jermain', [0]),\n",
      " ('Logan', [0]),\n",
      " ('Mathilde', [1]),\n",
      " ('Dari', [1]),\n",
      " ('Conroy', [0]),\n",
      " ('Lindsay', [1]),\n",
      " ('Marshal', [0]),\n",
      " ('Aristotle', [0]),\n",
      " ('Joly', [0]),\n",
      " ('Emmett', [0]),\n",
      " ('Noel', [0]),\n",
      " ('Hercule', [0]),\n",
      " ('Wilma', [1]),\n",
      " ('Thorpe', [0]),\n",
      " ('Shara', [1]),\n",
      " ('Danette', [1]),\n",
      " ('Wald', [1]),\n",
      " ('Hermon', [0]),\n",
      " ('Verge', [0]),\n",
      " ('Anastasia', [1]),\n",
      " ('Cori', [1]),\n",
      " ('Otto', [0]),\n",
      " ('Tucker', [0]),\n",
      " ('Sibel', [1]),\n",
      " ('Rowe', [0]),\n",
      " ('Frazier', [0]),\n",
      " ('Tiffany', [1]),\n",
      " ('Ekaterina', [1]),\n",
      " ('Mic', [0]),\n",
      " ('Dale', [0]),\n",
      " ('Chrissy', [1]),\n",
      " ('Fifi', [1]),\n",
      " ('Shauna', [1]),\n",
      " ('Elissa', [1]),\n",
      " ('Helga', [1]),\n",
      " ('Valli', [1]),\n",
      " ('Sherwood', [0]),\n",
      " ('Niki', [1]),\n",
      " ('Redford', [0]),\n",
      " ('Agathe', [1]),\n",
      " ('Cristina', [1]),\n",
      " ('JoAnn', [1])]\n"
     ]
    }
   ],
   "source": [
    "predictions = []\n",
    "\n",
    "for x_batch, _ in val_dataloader:\n",
    "    p_batch = infer_batch(f, x_batch, device).cpu().numpy().tolist()\n",
    "    predictions.extend(p_batch)\n",
    "    \n",
    "from pprint import pprint\n",
    "pprint(list(zip(names_val, predictions)))"
   ]
  },
  {
   "cell_type": "markdown",
   "metadata": {},
   "source": [
    "Very convincing! What are these word vectors and how are they helping our network predict baby genders?  🤔\n",
    "\n",
    "Do the first assignment and find out!"
   ]
  },
  {
   "cell_type": "markdown",
   "metadata": {},
   "source": [
    "---"
   ]
  }
 ],
 "metadata": {
  "kernelspec": {
   "display_name": "Python 3",
   "language": "python",
   "name": "python3"
  },
  "language_info": {
   "codemirror_mode": {
    "name": "ipython",
    "version": 3
   },
   "file_extension": ".py",
   "mimetype": "text/x-python",
   "name": "python",
   "nbconvert_exporter": "python",
   "pygments_lexer": "ipython3",
   "version": "3.7.4"
  }
 },
 "nbformat": 4,
 "nbformat_minor": 2
}
